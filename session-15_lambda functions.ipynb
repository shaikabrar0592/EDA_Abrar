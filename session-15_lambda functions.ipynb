{
 "cells": [
  {
   "cell_type": "markdown",
   "id": "3aa4c2bf",
   "metadata": {},
   "source": [
    "$lambda$"
   ]
  },
  {
   "cell_type": "code",
   "execution_count": null,
   "id": "a85d21ab",
   "metadata": {},
   "outputs": [],
   "source": [
    "- Lambda functions is also a kind of functions representation\n",
    "\n",
    "-more efficient way"
   ]
  },
  {
   "cell_type": "code",
   "execution_count": 1,
   "id": "1ef822ec",
   "metadata": {},
   "outputs": [
    {
     "data": {
      "text/plain": [
       "20"
      ]
     },
     "execution_count": 1,
     "metadata": {},
     "output_type": "execute_result"
    }
   ],
   "source": [
    "def summ(num):\n",
    "    return(num+10)\n",
    "\n",
    "summ(10)\n",
    "\n",
    "\n",
    "#function name is summ"
   ]
  },
  {
   "cell_type": "code",
   "execution_count": null,
   "id": "9a3726e0",
   "metadata": {},
   "outputs": [],
   "source": [
    "<function_name>=lambda <variable_name>:<retuen output>"
   ]
  },
  {
   "cell_type": "code",
   "execution_count": 8,
   "id": "72248f3a",
   "metadata": {},
   "outputs": [
    {
     "data": {
      "text/plain": [
       "30"
      ]
     },
     "execution_count": 8,
     "metadata": {},
     "output_type": "execute_result"
    }
   ],
   "source": [
    "summ=lambda num:num+10\n",
    "summ(20)\n"
   ]
  },
  {
   "cell_type": "code",
   "execution_count": 9,
   "id": "3cd970eb",
   "metadata": {},
   "outputs": [
    {
     "data": {
      "text/plain": [
       "30"
      ]
     },
     "execution_count": 9,
     "metadata": {},
     "output_type": "execute_result"
    }
   ],
   "source": [
    "def cube(numm):\n",
    "    return(num*num*num)\n",
    "summ(20)"
   ]
  },
  {
   "cell_type": "code",
   "execution_count": 1,
   "id": "4b4e6f93",
   "metadata": {},
   "outputs": [
    {
     "data": {
      "text/plain": [
       "1000"
      ]
     },
     "execution_count": 1,
     "metadata": {},
     "output_type": "execute_result"
    }
   ],
   "source": [
    "def cube(num):\n",
    "    return(num*num*num)\n",
    "\n",
    "cube(10)"
   ]
  },
  {
   "cell_type": "code",
   "execution_count": 4,
   "id": "50ff65be",
   "metadata": {},
   "outputs": [
    {
     "data": {
      "text/plain": [
       "8000"
      ]
     },
     "execution_count": 4,
     "metadata": {},
     "output_type": "execute_result"
    }
   ],
   "source": [
    "cube=lambda num:num*num*num\n",
    "cube(20)"
   ]
  },
  {
   "cell_type": "code",
   "execution_count": null,
   "id": "9253436a",
   "metadata": {},
   "outputs": [],
   "source": []
  },
  {
   "cell_type": "markdown",
   "id": "91958610",
   "metadata": {},
   "source": [
    "$two-arguments$"
   ]
  },
  {
   "cell_type": "code",
   "execution_count": 5,
   "id": "524e1eb2",
   "metadata": {},
   "outputs": [
    {
     "data": {
      "text/plain": [
       "300"
      ]
     },
     "execution_count": 5,
     "metadata": {},
     "output_type": "execute_result"
    }
   ],
   "source": [
    "def add(n1,n2):\n",
    "    return(n1+n2)\n",
    "add(100,200)\n"
   ]
  },
  {
   "cell_type": "code",
   "execution_count": 9,
   "id": "ad48596b",
   "metadata": {},
   "outputs": [
    {
     "data": {
      "text/plain": [
       "30"
      ]
     },
     "execution_count": 9,
     "metadata": {},
     "output_type": "execute_result"
    }
   ],
   "source": [
    "add=lambda n1,n2:n1+n2\n",
    "add(10,20)"
   ]
  },
  {
   "cell_type": "code",
   "execution_count": 12,
   "id": "19830f9e",
   "metadata": {},
   "outputs": [
    {
     "data": {
      "text/plain": [
       "200"
      ]
     },
     "execution_count": 12,
     "metadata": {},
     "output_type": "execute_result"
    }
   ],
   "source": [
    "mul=lambda n1,n2:n1*n2\n",
    "mul(10,20)"
   ]
  },
  {
   "cell_type": "code",
   "execution_count": 16,
   "id": "4ca08fca",
   "metadata": {},
   "outputs": [
    {
     "data": {
      "text/plain": [
       "40.0"
      ]
     },
     "execution_count": 16,
     "metadata": {},
     "output_type": "execute_result"
    }
   ],
   "source": [
    "def avg(n1,n2,n3):\n",
    "    return(n1+n2+n3/3)\n",
    "avg(10,20,30)\n"
   ]
  },
  {
   "cell_type": "code",
   "execution_count": 15,
   "id": "fe22171b",
   "metadata": {},
   "outputs": [
    {
     "data": {
      "text/plain": [
       "200.0"
      ]
     },
     "execution_count": 15,
     "metadata": {},
     "output_type": "execute_result"
    }
   ],
   "source": [
    "def avg(n1,n2,n3):\n",
    "    return((n1+n2+n3)/3)\n",
    "avg(100,200,300)"
   ]
  },
  {
   "cell_type": "code",
   "execution_count": 14,
   "id": "8b396837",
   "metadata": {},
   "outputs": [
    {
     "data": {
      "text/plain": [
       "20.0"
      ]
     },
     "execution_count": 14,
     "metadata": {},
     "output_type": "execute_result"
    }
   ],
   "source": [
    "avg=lambda n1,n2,n3 :(n1+n2+n3)/3\n",
    "avg(10,20,30)"
   ]
  },
  {
   "cell_type": "code",
   "execution_count": null,
   "id": "2233c674",
   "metadata": {},
   "outputs": [],
   "source": []
  },
  {
   "cell_type": "code",
   "execution_count": 17,
   "id": "554dc936",
   "metadata": {},
   "outputs": [
    {
     "data": {
      "text/plain": [
       "20.0"
      ]
     },
     "execution_count": 17,
     "metadata": {},
     "output_type": "execute_result"
    }
   ],
   "source": [
    "avg=lambda n1,n2,n3=30 :(n1+n2+n3)/3\n",
    "avg(10,20)"
   ]
  },
  {
   "cell_type": "markdown",
   "id": "cc817a6c",
   "metadata": {},
   "source": [
    "$if-else$"
   ]
  },
  {
   "cell_type": "code",
   "execution_count": 18,
   "id": "0010242a",
   "metadata": {},
   "outputs": [
    {
     "data": {
      "text/plain": [
       "200"
      ]
     },
     "execution_count": 18,
     "metadata": {},
     "output_type": "execute_result"
    }
   ],
   "source": [
    "def max(n1,n2):\n",
    "    if n1>n2:\n",
    "        return(n1)\n",
    "    else :\n",
    "        return(n2)\n",
    "\n",
    "max(100,200)    \n",
    "    "
   ]
  },
  {
   "cell_type": "code",
   "execution_count": 22,
   "id": "9f43ba34",
   "metadata": {},
   "outputs": [
    {
     "data": {
      "text/plain": [
       "20"
      ]
     },
     "execution_count": 22,
     "metadata": {},
     "output_type": "execute_result"
    }
   ],
   "source": [
    "def max(n1,n2):\n",
    "    if n1>n2:\n",
    "        return(n1)\n",
    "    else:\n",
    "        return(n2)\n",
    "    \n",
    "max(10,20)    "
   ]
  },
  {
   "cell_type": "code",
   "execution_count": 20,
   "id": "f5eb5699",
   "metadata": {},
   "outputs": [
    {
     "data": {
      "text/plain": [
       "200"
      ]
     },
     "execution_count": 20,
     "metadata": {},
     "output_type": "execute_result"
    }
   ],
   "source": [
    "max=lambda n1,n2 :n1 if n1>n2  else n2\n",
    "max(100,200)"
   ]
  },
  {
   "cell_type": "code",
   "execution_count": null,
   "id": "1a861cf1",
   "metadata": {},
   "outputs": [],
   "source": [
    "lambda <v1,v2,v3...>: <output>\n",
    "if -else we need to write in a single\n",
    "[<if_output> <if_con> else <else_ouput>]\n",
    "\n",
    "<function_name>=lambda <var1,var2>:<if_output> <if_con> else <else_ouput>"
   ]
  },
  {
   "cell_type": "code",
   "execution_count": 23,
   "id": "f9133144",
   "metadata": {},
   "outputs": [
    {
     "data": {
      "text/plain": [
       "20"
      ]
     },
     "execution_count": 23,
     "metadata": {},
     "output_type": "execute_result"
    }
   ],
   "source": [
    "max=lambda n1,n2 :n1 if n1>n2 else n2\n",
    "max(10,20)"
   ]
  },
  {
   "cell_type": "code",
   "execution_count": 26,
   "id": "02e5a6ff",
   "metadata": {},
   "outputs": [
    {
     "data": {
      "text/plain": [
       "['Hyd', 'Mumbai', 'Chennai']"
      ]
     },
     "execution_count": 26,
     "metadata": {},
     "output_type": "execute_result"
    }
   ],
   "source": [
    "list1=['hyd','mumbai','chennai']\n",
    "list2=['Hyd','Mumbai','Chennai']\n",
    "\n",
    "#######################################################\n",
    "list2=[]\n",
    "for i in list1:\n",
    "    list2.append(i.capitalize())\n",
    "\n",
    "#######################################################\n",
    "list2=[i.capitalize() for i in list1]\n",
    "list2\n",
    "\n"
   ]
  },
  {
   "cell_type": "code",
   "execution_count": null,
   "id": "287e7b0c",
   "metadata": {},
   "outputs": [],
   "source": [
    "\n"
   ]
  },
  {
   "cell_type": "markdown",
   "id": "e9742404",
   "metadata": {},
   "source": [
    " "
   ]
  },
  {
   "cell_type": "markdown",
   "id": "8803b96b",
   "metadata": {},
   "source": [
    "$map$"
   ]
  },
  {
   "cell_type": "code",
   "execution_count": 34,
   "id": "650621ef",
   "metadata": {},
   "outputs": [
    {
     "data": {
      "text/plain": [
       "['Hyd', 'Mumbai', 'Chennai']"
      ]
     },
     "execution_count": 34,
     "metadata": {},
     "output_type": "execute_result"
    }
   ],
   "source": [
    "list1=['hyd','mumbai','chennai']\n",
    "list(map(lambda i : i.capitalize(),list1))"
   ]
  },
  {
   "cell_type": "code",
   "execution_count": 37,
   "id": "bee50d64",
   "metadata": {},
   "outputs": [
    {
     "data": {
      "text/plain": [
       "['Hyd', 'Mumbai', 'Chennai']"
      ]
     },
     "execution_count": 37,
     "metadata": {},
     "output_type": "execute_result"
    }
   ],
   "source": [
    "list1=['hyd','mumbai','chennai']\n",
    "list2=['Hyd','Mumbai','Chennai']\n",
    "\n",
    "#######################################################\n",
    "list2=[]\n",
    "for i in list1:\n",
    "    list2.append(i.capitalize())\n",
    "\n",
    "#######################################################\n",
    "list2=[i.capitalize() for i in list1]\n",
    "list2\n",
    "\n",
    "############################################################\n",
    "list(map(lambda i : i.capitalize(),list1))"
   ]
  },
  {
   "cell_type": "code",
   "execution_count": 38,
   "id": "dcb6839d",
   "metadata": {
    "scrolled": true
   },
   "outputs": [
    {
     "data": {
      "text/plain": [
       "[1, 4, 9, 16]"
      ]
     },
     "execution_count": 38,
     "metadata": {},
     "output_type": "execute_result"
    }
   ],
   "source": [
    "list1=(1,2,3,4)\n",
    "\n",
    "list(map(lambda i : i*i,list1))"
   ]
  },
  {
   "cell_type": "code",
   "execution_count": 49,
   "id": "c38fa083",
   "metadata": {},
   "outputs": [
    {
     "data": {
      "text/plain": [
       "['hyder#abad', 'mumb#ai', 'chenn#ai']"
      ]
     },
     "execution_count": 49,
     "metadata": {},
     "output_type": "execute_result"
    }
   ],
   "source": [
    "\n",
    "l1=('hyder#abad','mumb#ai','chenn#ai','puna','goa')\n",
    "\n",
    "#######################################################\n",
    "l2=[]\n",
    "for i in l1:\n",
    "    if '#' in i:\n",
    "        l2.append(i)\n",
    "    \n",
    "l2   \n",
    "#########################################################\n",
    "l2=[i for i in l1 if '#' in i]\n",
    "l2"
   ]
  },
  {
   "cell_type": "markdown",
   "id": "bb579235",
   "metadata": {},
   "source": [
    "$filter$"
   ]
  },
  {
   "cell_type": "code",
   "execution_count": 52,
   "id": "545e0168",
   "metadata": {},
   "outputs": [
    {
     "data": {
      "text/plain": [
       "[True, True, True, False, False]"
      ]
     },
     "execution_count": 52,
     "metadata": {},
     "output_type": "execute_result"
    }
   ],
   "source": [
    "l1=['hyder#abad','mum#bai','chenn#ai','blr','pune']\n",
    "list(map(lambda i : '#' in i,l1))"
   ]
  },
  {
   "cell_type": "code",
   "execution_count": 53,
   "id": "4e3358ec",
   "metadata": {},
   "outputs": [
    {
     "data": {
      "text/plain": [
       "['hyder#abad', 'mum#bai', 'chenn#ai']"
      ]
     },
     "execution_count": 53,
     "metadata": {},
     "output_type": "execute_result"
    }
   ],
   "source": [
    "l1=['hyder#abad','mum#bai','chenn#ai','blr','pune']\n",
    "######################################################\n",
    "list(map(lambda i : '#' in i,l1))\n",
    "\n",
    "########################################################\n",
    "list(filter(lambda i : '#' in i,l1))"
   ]
  },
  {
   "cell_type": "code",
   "execution_count": null,
   "id": "22c46dd0",
   "metadata": {},
   "outputs": [],
   "source": []
  },
  {
   "cell_type": "code",
   "execution_count": null,
   "id": "d924066e",
   "metadata": {},
   "outputs": [],
   "source": []
  },
  {
   "cell_type": "code",
   "execution_count": null,
   "id": "742e08ef",
   "metadata": {},
   "outputs": [],
   "source": []
  },
  {
   "cell_type": "code",
   "execution_count": null,
   "id": "f639af60",
   "metadata": {},
   "outputs": [],
   "source": []
  },
  {
   "cell_type": "code",
   "execution_count": null,
   "id": "97bd341d",
   "metadata": {},
   "outputs": [],
   "source": []
  },
  {
   "cell_type": "code",
   "execution_count": null,
   "id": "24382301",
   "metadata": {},
   "outputs": [],
   "source": []
  },
  {
   "cell_type": "code",
   "execution_count": 1,
   "id": "fec99071",
   "metadata": {},
   "outputs": [
    {
     "data": {
      "text/plain": [
       "20"
      ]
     },
     "execution_count": 1,
     "metadata": {},
     "output_type": "execute_result"
    }
   ],
   "source": [
    "def summ(num):\n",
    "    return(num+10)\n",
    "\n",
    "summ(10)"
   ]
  },
  {
   "cell_type": "code",
   "execution_count": 5,
   "id": "3dc56a0b",
   "metadata": {},
   "outputs": [
    {
     "data": {
      "text/plain": [
       "20"
      ]
     },
     "execution_count": 5,
     "metadata": {},
     "output_type": "execute_result"
    }
   ],
   "source": [
    "summ=lambda num:num+10\n",
    "summ(10)"
   ]
  },
  {
   "cell_type": "code",
   "execution_count": 38,
   "id": "cac6930b",
   "metadata": {},
   "outputs": [
    {
     "data": {
      "text/plain": [
       "[True, True, True, False, False]"
      ]
     },
     "execution_count": 38,
     "metadata": {},
     "output_type": "execute_result"
    }
   ],
   "source": [
    "l1=['hyder#abad','mum#bai','chenn#ai','blr','pune']\n",
    "list(map(lambda i : '#' in i,l1))\n"
   ]
  },
  {
   "cell_type": "code",
   "execution_count": null,
   "id": "8d4e5765",
   "metadata": {},
   "outputs": [],
   "source": []
  },
  {
   "cell_type": "code",
   "execution_count": null,
   "id": "bcf3835f",
   "metadata": {},
   "outputs": [],
   "source": []
  },
  {
   "cell_type": "code",
   "execution_count": null,
   "id": "28bf9f33",
   "metadata": {},
   "outputs": [],
   "source": []
  },
  {
   "cell_type": "code",
   "execution_count": null,
   "id": "71c304e1",
   "metadata": {},
   "outputs": [],
   "source": []
  },
  {
   "cell_type": "code",
   "execution_count": null,
   "id": "26659e9a",
   "metadata": {},
   "outputs": [],
   "source": []
  },
  {
   "cell_type": "code",
   "execution_count": null,
   "id": "eb961afe",
   "metadata": {},
   "outputs": [],
   "source": []
  }
 ],
 "metadata": {
  "kernelspec": {
   "display_name": "Python 3 (ipykernel)",
   "language": "python",
   "name": "python3"
  },
  "language_info": {
   "codemirror_mode": {
    "name": "ipython",
    "version": 3
   },
   "file_extension": ".py",
   "mimetype": "text/x-python",
   "name": "python",
   "nbconvert_exporter": "python",
   "pygments_lexer": "ipython3",
   "version": "3.11.5"
  }
 },
 "nbformat": 4,
 "nbformat_minor": 5
}
