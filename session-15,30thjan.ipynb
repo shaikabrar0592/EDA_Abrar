{
 "cells": [
  {
   "cell_type": "code",
   "execution_count": null,
   "id": "d9df94f4",
   "metadata": {},
   "outputs": [],
   "source": [
    "-while"
   ]
  },
  {
   "cell_type": "code",
   "execution_count": 1,
   "id": "088e57a8",
   "metadata": {},
   "outputs": [
    {
     "name": "stdout",
     "output_type": "stream",
     "text": [
      "0 1 2 3 4 5 6 7 8 9 0 1 2 3 4 5 6 7 8 9 "
     ]
    }
   ],
   "source": [
    "for i  in range(10):                      ######################for loop\n",
    "    print(i,end=\" \")\n",
    "    \n",
    "####################################    \n",
    "i=0                                       #####################while loop\n",
    "while i<10:\n",
    "    print(i,end=\" \")\n",
    "    i=i+1"
   ]
  },
  {
   "cell_type": "code",
   "execution_count": 3,
   "id": "46b483be",
   "metadata": {},
   "outputs": [
    {
     "name": "stdout",
     "output_type": "stream",
     "text": [
      "0 1 2 3 4 5 6 7 8 "
     ]
    }
   ],
   "source": [
    "i=0                                      ##################infinite loop\n",
    "while i>=0:\n",
    "    print(i,end=\" \")\n",
    "    i=i+1\n",
    "    if i==9:\n",
    "        break"
   ]
  },
  {
   "cell_type": "code",
   "execution_count": 9,
   "id": "40a50dbc",
   "metadata": {},
   "outputs": [
    {
     "name": "stdout",
     "output_type": "stream",
     "text": [
      "1 2 3 4 5 6 7 8 9 "
     ]
    }
   ],
   "source": [
    "i=0\n",
    "while i>=0:\n",
    "    i=i+1\n",
    "    print(i,end=\" \")\n",
    "    if i==9:\n",
    "        break"
   ]
  },
  {
   "cell_type": "code",
   "execution_count": null,
   "id": "1ae43ce1",
   "metadata": {},
   "outputs": [],
   "source": [
    "while true "
   ]
  },
  {
   "cell_type": "code",
   "execution_count": 11,
   "id": "2f0ce3fe",
   "metadata": {},
   "outputs": [
    {
     "name": "stdout",
     "output_type": "stream",
     "text": [
      "0 1 2 3 4 5 6 7 8 9 10 11 12 13 14 15 16 17 18 19 "
     ]
    }
   ],
   "source": [
    "i=0\n",
    "while i>=0:\n",
    "    print(i,end=\" \")\n",
    "    i=i+1\n",
    "    if i==20:\n",
    "        break"
   ]
  },
  {
   "cell_type": "code",
   "execution_count": 12,
   "id": "05e5cc58",
   "metadata": {},
   "outputs": [
    {
     "name": "stdout",
     "output_type": "stream",
     "text": [
      "0 "
     ]
    }
   ],
   "source": [
    "i=0\n",
    "while i<1:\n",
    "    print(i,end=\" \")\n",
    "    i=i+1\n",
    "    \n",
    "    "
   ]
  },
  {
   "cell_type": "code",
   "execution_count": 3,
   "id": "ab1851e9",
   "metadata": {},
   "outputs": [
    {
     "name": "stdout",
     "output_type": "stream",
     "text": [
      "0 1 "
     ]
    }
   ],
   "source": [
    "i=0\n",
    "while i<2:\n",
    "    print(i,end=\" \")\n",
    "    i=i+1"
   ]
  },
  {
   "cell_type": "code",
   "execution_count": 5,
   "id": "23b7e26f",
   "metadata": {},
   "outputs": [
    {
     "name": "stdout",
     "output_type": "stream",
     "text": [
      "the square of 1 is 1\n",
      "the square of 2 is 4\n",
      "the square of 3 is 9\n",
      "the square of 4 is 16\n",
      "the square of 5 is 25\n"
     ]
    }
   ],
   "source": [
    "#wap ask the user print the square of 1 to 5 numbers using while loop\n",
    "#for loop\n",
    "  \n",
    "for i in range(1,6):\n",
    "    print(f\"the square of {i} is {i*i}\")\n",
    "          "
   ]
  },
  {
   "cell_type": "code",
   "execution_count": 6,
   "id": "0d148642",
   "metadata": {},
   "outputs": [
    {
     "name": "stdout",
     "output_type": "stream",
     "text": [
      "the square of 1 is 1\n",
      "the square of 2 is 4\n",
      "the square of 3 is 9\n",
      "the square of 4 is 16\n",
      "the square of 5 is 25\n"
     ]
    }
   ],
   "source": [
    "i=1\n",
    "while i<=5:\n",
    "    print(f\"the square of {i} is {i*i}\")\n",
    "    i=i+1"
   ]
  },
  {
   "cell_type": "code",
   "execution_count": 17,
   "id": "fd1f8993",
   "metadata": {},
   "outputs": [
    {
     "name": "stdout",
     "output_type": "stream",
     "text": [
      "the square of 25 is 625\n",
      "the square of 44 is 1936\n",
      "the square of 9 is 81\n",
      "the square of 12 is 144\n",
      "the square of 17 is 289\n"
     ]
    }
   ],
   "source": [
    "#wap ask the user get 5 random numbers\n",
    "#and print the square of the numbers using while loop\n",
    "\n",
    "\n",
    "import random\n",
    "i=1\n",
    "while i<=5:\n",
    "    num=random.randint(1,50)\n",
    "    print(f\"the square of {num} is {num*num}\")\n",
    "    i=i+1"
   ]
  },
  {
   "cell_type": "code",
   "execution_count": 19,
   "id": "df8ff571",
   "metadata": {},
   "outputs": [
    {
     "name": "stdout",
     "output_type": "stream",
     "text": [
      "55\n"
     ]
    }
   ],
   "source": [
    "#wap print sum of first 10 natural numbers\n",
    "\n",
    "summ=0\n",
    "for i in range(1,11):\n",
    "    summ=summ+i\n",
    "    \n",
    "print(summ)\n"
   ]
  },
  {
   "cell_type": "code",
   "execution_count": null,
   "id": "bab187e8",
   "metadata": {},
   "outputs": [],
   "source": [
    "#wap find the number of divisors of a given number using while loop\n",
    "# num 10 divisors loop 10 times"
   ]
  },
  {
   "cell_type": "code",
   "execution_count": 9,
   "id": "b4212815",
   "metadata": {},
   "outputs": [
    {
     "name": "stdout",
     "output_type": "stream",
     "text": [
      "enter the number:10\n",
      "4\n"
     ]
    }
   ],
   "source": [
    "count=0\n",
    "num=eval(input(\"enter the number:\"))\n",
    "i=1\n",
    "while i<=num:\n",
    "    if num%i==0:\n",
    "        count=count+1\n",
    "    i=i+1\n",
    "    \n",
    "print(count)\n",
    "\n"
   ]
  },
  {
   "cell_type": "code",
   "execution_count": null,
   "id": "6bd51640",
   "metadata": {},
   "outputs": [],
   "source": [
    "#wap ask the user get a random number\n",
    "#    assk the user get a number\n",
    "#    if user number == random number print (won)\n",
    "#give three chances use while loop\n",
    "\n",
    "\n"
   ]
  },
  {
   "cell_type": "code",
   "execution_count": null,
   "id": "5c2fcf8f",
   "metadata": {},
   "outputs": [],
   "source": [
    "import random \n",
    "i=0\n",
    "while i<3:\n",
    "    num=eval(input())"
   ]
  },
  {
   "cell_type": "code",
   "execution_count": null,
   "id": "0931f69c",
   "metadata": {},
   "outputs": [],
   "source": [
    "using for loop ====== infinite loop is not possible\n",
    "using while loop ====== infinite loop is possible"
   ]
  },
  {
   "cell_type": "code",
   "execution_count": 10,
   "id": "630a6170",
   "metadata": {},
   "outputs": [],
   "source": [
    "\n",
    "    "
   ]
  },
  {
   "cell_type": "code",
   "execution_count": 10,
   "id": "3fb7c290",
   "metadata": {},
   "outputs": [
    {
     "name": "stdout",
     "output_type": "stream",
     "text": [
      "1 2 3 4 5 6 7 8 9 "
     ]
    }
   ],
   "source": []
  },
  {
   "cell_type": "code",
   "execution_count": null,
   "id": "3ff7532a",
   "metadata": {},
   "outputs": [],
   "source": []
  }
 ],
 "metadata": {
  "kernelspec": {
   "display_name": "Python 3 (ipykernel)",
   "language": "python",
   "name": "python3"
  },
  "language_info": {
   "codemirror_mode": {
    "name": "ipython",
    "version": 3
   },
   "file_extension": ".py",
   "mimetype": "text/x-python",
   "name": "python",
   "nbconvert_exporter": "python",
   "pygments_lexer": "ipython3",
   "version": "3.11.5"
  }
 },
 "nbformat": 4,
 "nbformat_minor": 5
}
