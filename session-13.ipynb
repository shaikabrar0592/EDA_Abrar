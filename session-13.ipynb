{
 "cells": [
  {
   "cell_type": "code",
   "execution_count": 2,
   "id": "6304c050",
   "metadata": {
    "scrolled": true
   },
   "outputs": [
    {
     "name": "stdout",
     "output_type": "stream",
     "text": [
      "enter a num1:20\n",
      "enter a num2:p\n"
     ]
    },
    {
     "ename": "NameError",
     "evalue": "name 'exception' is not defined",
     "output_type": "error",
     "traceback": [
      "\u001b[1;31m---------------------------------------------------------------------------\u001b[0m",
      "\u001b[1;31mNameError\u001b[0m                                 Traceback (most recent call last)",
      "Cell \u001b[1;32mIn[2], line 3\u001b[0m\n\u001b[0;32m      2\u001b[0m num1\u001b[38;5;241m=\u001b[39m\u001b[38;5;28meval\u001b[39m(\u001b[38;5;28minput\u001b[39m(\u001b[38;5;124m\"\u001b[39m\u001b[38;5;124menter a num1:\u001b[39m\u001b[38;5;124m\"\u001b[39m))\n\u001b[1;32m----> 3\u001b[0m num2\u001b[38;5;241m=\u001b[39m\u001b[38;5;28meval\u001b[39m(\u001b[38;5;28minput\u001b[39m(\u001b[38;5;124m\"\u001b[39m\u001b[38;5;124menter a num2:\u001b[39m\u001b[38;5;124m\"\u001b[39m))\n\u001b[0;32m      4\u001b[0m \u001b[38;5;28mprint\u001b[39m(num1\u001b[38;5;241m/\u001b[39mnum2)\n",
      "File \u001b[1;32m<string>:1\u001b[0m\n",
      "\u001b[1;31mNameError\u001b[0m: name 'p' is not defined",
      "\nDuring handling of the above exception, another exception occurred:\n",
      "\u001b[1;31mNameError\u001b[0m                                 Traceback (most recent call last)",
      "Cell \u001b[1;32mIn[2], line 5\u001b[0m\n\u001b[0;32m      3\u001b[0m    num2\u001b[38;5;241m=\u001b[39m\u001b[38;5;28meval\u001b[39m(\u001b[38;5;28minput\u001b[39m(\u001b[38;5;124m\"\u001b[39m\u001b[38;5;124menter a num2:\u001b[39m\u001b[38;5;124m\"\u001b[39m))\n\u001b[0;32m      4\u001b[0m    \u001b[38;5;28mprint\u001b[39m(num1\u001b[38;5;241m/\u001b[39mnum2)\n\u001b[1;32m----> 5\u001b[0m \u001b[38;5;28;01mexcept\u001b[39;00m exception \u001b[38;5;28;01mas\u001b[39;00m e:\n\u001b[0;32m      6\u001b[0m     \u001b[38;5;28mprint\u001b[39m(e)\n",
      "\u001b[1;31mNameError\u001b[0m: name 'exception' is not defined"
     ]
    }
   ],
   "source": [
    "try:\n",
    "   num1=eval(input(\"enter a num1:\"))\n",
    "   num2=eval(input(\"enter a num2:\"))\n",
    "   print(num1/num2)\n",
    "except exception as e:\n",
    "    print(e)"
   ]
  },
  {
   "cell_type": "code",
   "execution_count": null,
   "id": "9e0ec0dc",
   "metadata": {},
   "outputs": [],
   "source": []
  },
  {
   "cell_type": "code",
   "execution_count": null,
   "id": "f641ca9a",
   "metadata": {},
   "outputs": [],
   "source": []
  },
  {
   "cell_type": "code",
   "execution_count": null,
   "id": "6f0c57e1",
   "metadata": {},
   "outputs": [],
   "source": []
  },
  {
   "cell_type": "code",
   "execution_count": null,
   "id": "ac9aedf8",
   "metadata": {},
   "outputs": [],
   "source": []
  },
  {
   "cell_type": "code",
   "execution_count": null,
   "id": "ef8d4002",
   "metadata": {},
   "outputs": [],
   "source": []
  },
  {
   "cell_type": "code",
   "execution_count": null,
   "id": "e8b118d1",
   "metadata": {},
   "outputs": [],
   "source": []
  },
  {
   "cell_type": "code",
   "execution_count": null,
   "id": "65ded4a7",
   "metadata": {},
   "outputs": [],
   "source": [
    "eval"
   ]
  },
  {
   "cell_type": "code",
   "execution_count": null,
   "id": "246e199a",
   "metadata": {},
   "outputs": [],
   "source": []
  },
  {
   "cell_type": "code",
   "execution_count": null,
   "id": "37b350c0",
   "metadata": {},
   "outputs": [],
   "source": [
    "try:\n",
    "    print(\"now iam in try block\")\n",
    "    num1=eval(input(\"enter a num1:\"))\n",
    "    num2=eval(input(\"enter a num2: "
   ]
  },
  {
   "cell_type": "code",
   "execution_count": 3,
   "id": "c37196a6",
   "metadata": {},
   "outputs": [],
   "source": [
    "def addition():\n",
    "    num1=eval(\"enter a num1:\")\n",
    "    num2=eval(\"enter a num2:\")\n",
    "    print(num1+num2)"
   ]
  },
  {
   "cell_type": "code",
   "execution_count": null,
   "id": "49744f2e",
   "metadata": {},
   "outputs": [],
   "source": [
    "um1=eval(\"enter a num1:\")\n",
    "num2=eval(\"enter a num2:\")"
   ]
  },
  {
   "cell_type": "code",
   "execution_count": null,
   "id": "68af101c",
   "metadata": {},
   "outputs": [],
   "source": [
    "#wap ask the user enter bill amount\n",
    "#    ask the e\n",
    "\n",
    "\n",
    "\n",
    " \n",
    "def hotel():\n",
    "    bill=eval(input\"enter bill amount\")\n",
    "    tip_per=eval"
   ]
  },
  {
   "cell_type": "code",
   "execution_count": 4,
   "id": "db8edf16",
   "metadata": {},
   "outputs": [
    {
     "name": "stdout",
     "output_type": "stream",
     "text": [
      "enter a num1:20\n",
      "enter a num2:30\n",
      "50\n"
     ]
    }
   ],
   "source": [
    "try:\n",
    "   num1=eval(input(\"enter a num1:\"))\n",
    "   num2=eval(input(\"enter a num2:\"))\n",
    "   print(num1+num2)\n",
    "except exception as e:\n",
    "    print(e)"
   ]
  },
  {
   "cell_type": "markdown",
   "id": "94e8ef14",
   "metadata": {},
   "source": []
  },
  {
   "cell_type": "code",
   "execution_count": 5,
   "id": "c5948bf3",
   "metadata": {},
   "outputs": [
    {
     "name": "stdout",
     "output_type": "stream",
     "text": [
      "now iam in try block\n",
      "enter a num1:20\n",
      "enter a num2:30\n",
      "0.6666666666666666\n",
      "hello\n",
      "python\n"
     ]
    }
   ],
   "source": [
    "c"
   ]
  },
  {
   "cell_type": "code",
   "execution_count": 3,
   "id": "7b0c7c05",
   "metadata": {
    "scrolled": false
   },
   "outputs": [
    {
     "name": "stdout",
     "output_type": "stream",
     "text": [
      "enter a num1:44\n",
      "enter a num2:55\n",
      "0.8\n"
     ]
    }
   ],
   "source": [
    "try:\n",
    "   num1=eval(input(\"enter a num1:\"))\n",
    "   num2=eval(input(\"enter a num2:\"))\n",
    "   print(num1/num2)\n",
    "except exception as e:\n",
    "    print(e)\n",
    "    "
   ]
  },
  {
   "cell_type": "code",
   "execution_count": null,
   "id": "3446c582",
   "metadata": {},
   "outputs": [],
   "source": [
    "def<function name>():\n",
    "    #write your code\n",
    "\n",
    "\n",
    "\n"
   ]
  },
  {
   "cell_type": "code",
   "execution_count": null,
   "id": "6113c171",
   "metadata": {},
   "outputs": [],
   "source": [
    "def<function name>():\n",
    "    #write your code"
   ]
  },
  {
   "cell_type": "code",
   "execution_count": null,
   "id": "7d835761",
   "metadata": {},
   "outputs": [],
   "source": [
    "def addition():\n",
    "      "
   ]
  },
  {
   "cell_type": "code",
   "execution_count": null,
   "id": "c96ea441",
   "metadata": {},
   "outputs": [],
   "source": [
    "try:\n",
    "   num1=eval(input(\"enter a num1:\"))\n",
    "   num2=eval(input(\"enter a num2:\"))\n",
    "   print(num1/num2)\n",
    "except exception as e:\n",
    "    print(e)\n",
    "    "
   ]
  },
  {
   "cell_type": "code",
   "execution_count": null,
   "id": "5ce7d833",
   "metadata": {},
   "outputs": [],
   "source": [
    "**DEFAULT AURGUMENTS**\n",
    "#we can fix the aurgument values\n",
    "#is call default aurguments"
   ]
  },
  {
   "cell_type": "code",
   "execution_count": 4,
   "id": "a6bd910e",
   "metadata": {},
   "outputs": [
    {
     "name": "stdout",
     "output_type": "stream",
     "text": [
      "num1: 20\n",
      "num2:,num2\n",
      "120\n"
     ]
    }
   ],
   "source": [
    "def summ(num1,num2=100):\n",
    "    print(\"num1:\",num1)\n",
    "    print(\"num2:,num2\")\n",
    "    add=num1+num2\n",
    "    print(add)\n",
    "\n",
    "    \n",
    "summ(20)    \n"
   ]
  },
  {
   "cell_type": "code",
   "execution_count": 2,
   "id": "e852c4d1",
   "metadata": {},
   "outputs": [
    {
     "ename": "SyntaxError",
     "evalue": "invalid syntax (3343256628.py, line 1)",
     "output_type": "error",
     "traceback": [
      "\u001b[1;36m  Cell \u001b[1;32mIn[2], line 1\u001b[1;36m\u001b[0m\n\u001b[1;33m    ****************note default aurguments are at always last***************\u001b[0m\n\u001b[1;37m    ^\u001b[0m\n\u001b[1;31mSyntaxError\u001b[0m\u001b[1;31m:\u001b[0m invalid syntax\n"
     ]
    }
   ],
   "source": [
    "****************note default aurguments are at always last***************"
   ]
  },
  {
   "cell_type": "code",
   "execution_count": 4,
   "id": "bfcb4cba",
   "metadata": {},
   "outputs": [
    {
     "ename": "NameError",
     "evalue": "name 'add' is not defined",
     "output_type": "error",
     "traceback": [
      "\u001b[1;31m---------------------------------------------------------------------------\u001b[0m",
      "\u001b[1;31mNameError\u001b[0m                                 Traceback (most recent call last)",
      "Cell \u001b[1;32mIn[4], line 5\u001b[0m\n\u001b[0;32m      2\u001b[0m     add(n1\u001b[38;5;241m+\u001b[39mn2\u001b[38;5;241m+\u001b[39mn3)\n\u001b[0;32m      3\u001b[0m     \u001b[38;5;28mprint\u001b[39m(average)\n\u001b[1;32m----> 5\u001b[0m avg(\u001b[38;5;241m200\u001b[39m)\n",
      "Cell \u001b[1;32mIn[4], line 2\u001b[0m, in \u001b[0;36mavg\u001b[1;34m(n1, n2, nn3)\u001b[0m\n\u001b[0;32m      1\u001b[0m \u001b[38;5;28;01mdef\u001b[39;00m \u001b[38;5;21mavg\u001b[39m(n1,n2\u001b[38;5;241m=\u001b[39m\u001b[38;5;241m100\u001b[39m,nn3\u001b[38;5;241m=\u001b[39m\u001b[38;5;241m100\u001b[39m):\n\u001b[1;32m----> 2\u001b[0m     add(n1\u001b[38;5;241m+\u001b[39mn2\u001b[38;5;241m+\u001b[39mn3)\n\u001b[0;32m      3\u001b[0m     \u001b[38;5;28mprint\u001b[39m(average)\n",
      "\u001b[1;31mNameError\u001b[0m: name 'add' is not defined"
     ]
    }
   ],
   "source": [
    "def avg(n1,n2=100,nn3=100):\n",
    "    add(n1+n2+n3)\n",
    "    print(average)\n",
    "    \n",
    "avg(200)    \n",
    "    "
   ]
  },
  {
   "cell_type": "code",
   "execution_count": null,
   "id": "efe6198e",
   "metadata": {},
   "outputs": [],
   "source": []
  },
  {
   "cell_type": "code",
   "execution_count": null,
   "id": "8dba7739",
   "metadata": {},
   "outputs": [],
   "source": [
    "def bill_pay():\n",
    "    "
   ]
  },
  {
   "cell_type": "code",
   "execution_count": null,
   "id": "21799fee",
   "metadata": {},
   "outputs": [],
   "source": [
    "#wap ask the user enter salary: 100000\n",
    "#    ask the user enter tax per :10\n",
    "#calculate tax\n",
    "\n",
    "\n",
    "#impliment function with out argumen\n",
    "  "
   ]
  },
  {
   "cell_type": "code",
   "execution_count": null,
   "id": "a4fb79b3",
   "metadata": {},
   "outputs": [],
   "source": []
  },
  {
   "cell_type": "code",
   "execution_count": 3,
   "id": "d5a0ef68",
   "metadata": {},
   "outputs": [
    {
     "ename": "NameError",
     "evalue": "name 'n2' is not defined",
     "output_type": "error",
     "traceback": [
      "\u001b[1;31m---------------------------------------------------------------------------\u001b[0m",
      "\u001b[1;31mNameError\u001b[0m                                 Traceback (most recent call last)",
      "Cell \u001b[1;32mIn[3], line 9\u001b[0m\n\u001b[0;32m      6\u001b[0m     \u001b[38;5;28;01melse\u001b[39;00m:\n\u001b[0;32m      7\u001b[0m         \u001b[38;5;28mprint\u001b[39m(\u001b[38;5;124m\"\u001b[39m\u001b[38;5;124mout\u001b[39m\u001b[38;5;124m\"\u001b[39m)\n\u001b[1;32m----> 9\u001b[0m game()\n",
      "Cell \u001b[1;32mIn[3], line 4\u001b[0m, in \u001b[0;36mgame\u001b[1;34m()\u001b[0m\n\u001b[0;32m      2\u001b[0m \u001b[38;5;28;01mdef\u001b[39;00m \u001b[38;5;21mgame\u001b[39m():\n\u001b[0;32m      3\u001b[0m     n1\u001b[38;5;241m=\u001b[39mrandom\u001b[38;5;241m.\u001b[39mrandint(\u001b[38;5;241m1\u001b[39m,\u001b[38;5;241m10\u001b[39m)\n\u001b[1;32m----> 4\u001b[0m     \u001b[38;5;28;01mif\u001b[39;00m n1\u001b[38;5;241m==\u001b[39mn2:\n\u001b[0;32m      5\u001b[0m         \u001b[38;5;28mprint\u001b[39m(\u001b[38;5;124m\"\u001b[39m\u001b[38;5;124min\u001b[39m\u001b[38;5;124m\"\u001b[39m)\n\u001b[0;32m      6\u001b[0m     \u001b[38;5;28;01melse\u001b[39;00m:\n",
      "\u001b[1;31mNameError\u001b[0m: name 'n2' is not defined"
     ]
    }
   ],
   "source": [
    "import random\n",
    "def game():\n",
    "    n1=random.randint(1,10)\n",
    "    if n1==n2:\n",
    "        print(\"in\")\n",
    "    else:\n",
    "        print(\"out\")\n",
    "        \n",
    "game()        "
   ]
  },
  {
   "cell_type": "code",
   "execution_count": null,
   "id": "7582950b",
   "metadata": {},
   "outputs": [],
   "source": [
    "def game():\n",
    "    n1=random.randint(1,10)\n",
    "    if n1==n2:\n",
    "        print(\"in\")\n",
    "    else:\n",
    "        print(\"out\")\n",
    "        \n",
    "game()        \n",
    "\n",
    "#step-1:  some random number stored in n1\n",
    " \n",
    "    "
   ]
  },
  {
   "cell_type": "code",
   "execution_count": null,
   "id": "70351393",
   "metadata": {},
   "outputs": [],
   "source": [
    "def game():\n",
    "    n1=random.randint(1,10)\n",
    "    if n1==n2:\n",
    "        print(\"in\")\n",
    "    else:\n",
    "        print(\"out\")\n",
    "        \n",
    "game()        \n"
   ]
  },
  {
   "cell_type": "code",
   "execution_count": null,
   "id": "9be64295",
   "metadata": {},
   "outputs": [],
   "source": [
    "-vareiablevariables out side the function is called as globle variables s inside the function is caklled as local variables\n",
    "\n",
    "-\n",
    "\n",
    "\n",
    "\n",
    "-if you want to provide localnvariabls out side the function provide return statment"
   ]
  },
  {
   "cell_type": "code",
   "execution_count": null,
   "id": "0f600799",
   "metadata": {},
   "outputs": [],
   "source": []
  },
  {
   "cell_type": "code",
   "execution_count": null,
   "id": "4298a650",
   "metadata": {},
   "outputs": [],
   "source": [
    "def bill_pay(:\n",
    "            global total_amount\n",
    "             bill=eval(input(\"enter a bill smoumt\"))\n",
    "             tip_per=eva'(input(\"enter the tip in %\"\n",
    "             tip_Amount=bill+tip_amount\n",
    "             print(f\"the total bill is :\n",
    "                  )"
   ]
  },
  {
   "cell_type": "code",
   "execution_count": null,
   "id": "6527d1bf",
   "metadata": {},
   "outputs": [],
   "source": []
  },
  {
   "cell_type": "code",
   "execution_count": null,
   "id": "e19a2e81",
   "metadata": {},
   "outputs": [],
   "source": []
  },
  {
   "cell_type": "code",
   "execution_count": 4,
   "id": "f21ac08b",
   "metadata": {},
   "outputs": [
    {
     "name": "stdout",
     "output_type": "stream",
     "text": [
      "hello\n",
      "how are you\n",
      "hello\n"
     ]
    }
   ],
   "source": [
    "def greet1():\n",
    "    print(\"hello\")\n",
    "    \n",
    "def greet2():\n",
    "    print(\"how are you\")\n",
    "    \n",
    "greet1()\n",
    "greet2()\n",
    "##################################################################\n",
    "\n",
    "def greet1():\n",
    "    print(\"hello\")\n",
    "    \n",
    "def greet2():\n",
    "    print(\"how are you\")\n",
    "    \n",
    "greet1()\n",
    "##################################################################\n",
    "\n"
   ]
  },
  {
   "cell_type": "code",
   "execution_count": null,
   "id": "55e36999",
   "metadata": {},
   "outputs": [],
   "source": []
  },
  {
   "cell_type": "code",
   "execution_count": null,
   "id": "108b1715",
   "metadata": {},
   "outputs": [
    {
     "name": "stdout",
     "output_type": "stream",
     "text": [
      "If you want to use addition, please enter 1.\n",
      "If you want to use subtraction, please enter 2.\n",
      "If you want to use multiplication, please enter 3.\n",
      "If you want to use division, please enter 4.\n"
     ]
    }
   ],
   "source": [
    "# calculator program\n",
    "# create 4 functions\n",
    "# fun1: add\n",
    "# fun2: sub\n",
    "# fun3: mul\n",
    "# fun4: div\n",
    "\n",
    "# print(\"if you want use add protection pls enter 1\")\n",
    "# print(\"if you want use sub protection pls enter 2\")\n",
    "# print(\"if you want use mul protection pls enter 3\")\n",
    "# print(\"if you want use div protection pls enter 4\")\n",
    " \n",
    "# option=eval(inpu(\"choose option 1,2,3,4\")\n",
    "# if option==1:\n",
    "#    n1=\n",
    "#    n2=\n",
    "#    add(n1,n2)\n",
    "# elif option==2:\n",
    "#   sub()\n",
    "\n",
    "\n",
    "def add(n1, n2):\n",
    "    return n1 + n2\n",
    "    \n",
    "def sub(n1, n2):\n",
    "    return n1 - n2\n",
    "    \n",
    "def mul(n1, n2):\n",
    "    return n1 * n2\n",
    "    \n",
    "def div(n1, n2):\n",
    "    return n1 / n2\n",
    "\n",
    "print(\"If you want to use addition, please enter 1.\")\n",
    "print(\"If you want to use subtraction, please enter 2.\")\n",
    "print(\"If you want to use multiplication, please enter 3.\")\n",
    "print(\"If you want to use division, please enter 4.\")\n",
    "\n",
    "option = int(input(\"Choose an option (1, 2, 3, or 4): \"))\n",
    "\n",
    "if option in [1, 2, 3, 4]:\n",
    "    n1 = float(input(\"Enter the first number: \"))\n",
    "    n2 = float(input(\"Enter the second number: \"))\n",
    "\n",
    "    if option == 1:\n",
    "        print(\"Result:\", add(n1, n2))\n",
    "    elif option == 2:\n",
    "        print(\"Result:\", sub(n1, n2))\n",
    "    elif option == 3:\n",
    "        print(\"Result:\", mul(n1, n2))\n",
    "    elif option == 4:\n",
    "        print(\"Result:\", div(n1, n2))\n",
    "else:\n",
    "    print(\"Invalid option!\")\n"
   ]
  },
  {
   "cell_type": "code",
   "execution_count": null,
   "id": "2f5e2967",
   "metadata": {},
   "outputs": [],
   "source": [
    " # wap ask the user get 5 random numbers and print the square of thouse number"
   ]
  },
  {
   "cell_type": "code",
   "execution_count": 4,
   "id": "2b2d6f48",
   "metadata": {},
   "outputs": [
    {
     "ename": "SyntaxError",
     "evalue": "invalid syntax (3388252724.py, line 1)",
     "output_type": "error",
     "traceback": [
      "\u001b[1;36m  Cell \u001b[1;32mIn[4], line 1\u001b[1;36m\u001b[0m\n\u001b[1;33m    for i range(5):\u001b[0m\n\u001b[1;37m          ^\u001b[0m\n\u001b[1;31mSyntaxError\u001b[0m\u001b[1;31m:\u001b[0m invalid syntax\n"
     ]
    }
   ],
   "source": [
    "for i range(5):\n",
    "    num=random.randint(5)\n",
    "    print(f\"square  )"
   ]
  },
  {
   "cell_type": "code",
   "execution_count": null,
   "id": "84c06464",
   "metadata": {},
   "outputs": [],
   "source": []
  },
  {
   "cell_type": "code",
   "execution_count": null,
   "id": "9869e293",
   "metadata": {},
   "outputs": [],
   "source": [
    "# wap ask the user print it is ansn even number or odd number\n",
    "# between 5 to 20\n",
    "\n",
    "\n",
    "\n",
    "#wap the user enter a number and print it is even or odd\n",
    "# ask the user get a 5 random numbers between 5,50\n",
    "\n",
    "\n",
    "#wap"
   ]
  },
  {
   "cell_type": "code",
   "execution_count": null,
   "id": "a5733b33",
   "metadata": {},
   "outputs": [],
   "source": [
    "# wap ask the user print it is an even number or odd number\n",
    "# between 5 to 20"
   ]
  },
  {
   "cell_type": "code",
   "execution_count": 5,
   "id": "981a4373",
   "metadata": {},
   "outputs": [
    {
     "ename": "SyntaxError",
     "evalue": "invalid syntax (1566033169.py, line 1)",
     "output_type": "error",
     "traceback": [
      "\u001b[1;36m  Cell \u001b[1;32mIn[5], line 1\u001b[1;36m\u001b[0m\n\u001b[1;33m    for i range(5,10):\u001b[0m\n\u001b[1;37m          ^\u001b[0m\n\u001b[1;31mSyntaxError\u001b[0m\u001b[1;31m:\u001b[0m invalid syntax\n"
     ]
    }
   ],
   "source": [
    "for i range(5,10):\n",
    "    print(i,end=\" \")\n",
    "    if num%2\n",
    "    "
   ]
  },
  {
   "cell_type": "code",
   "execution_count": null,
   "id": "448513d9",
   "metadata": {},
   "outputs": [],
   "source": [
    "# improvise the avove code how amny even numbers are the and hiow many odd numbers are their"
   ]
  },
  {
   "cell_type": "code",
   "execution_count": 6,
   "id": "663bccf9",
   "metadata": {},
   "outputs": [
    {
     "ename": "SyntaxError",
     "evalue": "invalid syntax (141768086.py, line 5)",
     "output_type": "error",
     "traceback": [
      "\u001b[1;36m  Cell \u001b[1;32mIn[6], line 5\u001b[1;36m\u001b[0m\n\u001b[1;33m    if num%==0:\u001b[0m\n\u001b[1;37m          ^\u001b[0m\n\u001b[1;31mSyntaxError\u001b[0m\u001b[1;31m:\u001b[0m invalid syntax\n"
     ]
    }
   ],
   "source": [
    "even_count=0\n",
    "odd_count=0\n",
    "for i in range(5):\n",
    "    num+random.randint(5,50)\n",
    "    if num%==0:\n",
    "        print(f\"{num} is an even\")\n",
    "        even_count=even_count+1\n",
    "    else:\n",
    "        print(f\"{num} is an odd\")\n",
    "        odd_count=odd_count+1"
   ]
  },
  {
   "cell_type": "code",
   "execution_count": null,
   "id": "a65aaff2",
   "metadata": {},
   "outputs": [],
   "source": []
  },
  {
   "cell_type": "code",
   "execution_count": null,
   "id": "55130fcc",
   "metadata": {},
   "outputs": [],
   "source": []
  },
  {
   "cell_type": "code",
   "execution_count": null,
   "id": "6d6b4cb9",
   "metadata": {},
   "outputs": [],
   "source": []
  }
 ],
 "metadata": {
  "kernelspec": {
   "display_name": "Python 3 (ipykernel)",
   "language": "python",
   "name": "python3"
  },
  "language_info": {
   "codemirror_mode": {
    "name": "ipython",
    "version": 3
   },
   "file_extension": ".py",
   "mimetype": "text/x-python",
   "name": "python",
   "nbconvert_exporter": "python",
   "pygments_lexer": "ipython3",
   "version": "3.11.5"
  }
 },
 "nbformat": 4,
 "nbformat_minor": 5
}
