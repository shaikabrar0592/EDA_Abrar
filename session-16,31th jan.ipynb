{
 "cells": [
  {
   "cell_type": "code",
   "execution_count": null,
   "id": "e7b3d65b",
   "metadata": {},
   "outputs": [],
   "source": [
    "name='python'\n",
    "\n",
    "#strings are in red colour: quotes\n",
    "\n",
    "#variables are in black colour\n",
    "\n",
    "#keywords are in green colour"
   ]
  },
  {
   "cell_type": "code",
   "execution_count": null,
   "id": "d8420841",
   "metadata": {},
   "outputs": [],
   "source": []
  },
  {
   "cell_type": "code",
   "execution_count": null,
   "id": "d4af47f2",
   "metadata": {},
   "outputs": [],
   "source": []
  },
  {
   "cell_type": "code",
   "execution_count": null,
   "id": "37a98344",
   "metadata": {},
   "outputs": [],
   "source": []
  },
  {
   "cell_type": "code",
   "execution_count": null,
   "id": "9df7922d",
   "metadata": {},
   "outputs": [],
   "source": []
  },
  {
   "cell_type": "code",
   "execution_count": null,
   "id": "46149ab1",
   "metadata": {},
   "outputs": [],
   "source": [
    "type('name')"
   ]
  },
  {
   "cell_type": "code",
   "execution_count": null,
   "id": "2422bda0",
   "metadata": {},
   "outputs": [],
   "source": [
    "name1=\"python\"\n",
    "type(name1)"
   ]
  },
  {
   "cell_type": "code",
   "execution_count": null,
   "id": "68d48e02",
   "metadata": {},
   "outputs": [],
   "source": [
    "print('name')             # careful with print statement"
   ]
  },
  {
   "cell_type": "code",
   "execution_count": null,
   "id": "f6af54a7",
   "metadata": {},
   "outputs": [],
   "source": [
    "print(name1)              #careful with print statement"
   ]
  },
  {
   "cell_type": "code",
   "execution_count": null,
   "id": "155710db",
   "metadata": {},
   "outputs": [],
   "source": [
    "name2='i like \"python\"'\n",
    "print(name2)\n",
    "\n",
    "#entire string in single quotes\n",
    "#python word is in double quotes"
   ]
  },
  {
   "cell_type": "code",
   "execution_count": null,
   "id": "4fca3022",
   "metadata": {},
   "outputs": [],
   "source": [
    "name3=\"i like 'python'\"\n",
    "print(name3)"
   ]
  },
  {
   "cell_type": "code",
   "execution_count": null,
   "id": "f7c06cf5",
   "metadata": {},
   "outputs": [],
   "source": []
  },
  {
   "cell_type": "markdown",
   "id": "822bd2f5",
   "metadata": {},
   "source": [
    "triple - quotes \n",
    "\n",
    "-triple quotes meaning is doc string\n",
    "-if you want to convey the information to user\n",
    "-in jupyter notebook: markdown\n",
    "-but in amother platforms like Vscode,pycharm dont have markdown\n",
    "-at that place to covey the information we use triple codes\n",
    "-that is called docstring"
   ]
  },
  {
   "cell_type": "code",
   "execution_count": null,
   "id": "abb2b418",
   "metadata": {},
   "outputs": [],
   "source": [
    "name4=\"\"\"python\"\"\""
   ]
  },
  {
   "cell_type": "code",
   "execution_count": null,
   "id": "ad81c017",
   "metadata": {
    "scrolled": true
   },
   "outputs": [],
   "source": [
    "import random\n",
    "random.randint()"
   ]
  },
  {
   "cell_type": "code",
   "execution_count": null,
   "id": "8ed2b892",
   "metadata": {},
   "outputs": [],
   "source": [
    "-type\n",
    "-max\n",
    "-min\n",
    "-len\n",
    "-reversed\n",
    "-sorted"
   ]
  },
  {
   "cell_type": "code",
   "execution_count": null,
   "id": "dda72d5c",
   "metadata": {},
   "outputs": [],
   "source": [
    "name='python'\n",
    "max(name)\n",
    "\n",
    "\n",
    "#keyword(<variable name>)\n",
    "#print(name)\n",
    "#type(name)\n",
    "\n",
    "\n"
   ]
  },
  {
   "cell_type": "code",
   "execution_count": null,
   "id": "99f8bea8",
   "metadata": {},
   "outputs": [],
   "source": [
    "###############################\n",
    "ASCII\n",
    " -American standard code information interchange\n",
    " -A:65\n",
    " -a:97\n",
    "    \n",
    "ord-chr    "
   ]
  },
  {
   "cell_type": "code",
   "execution_count": null,
   "id": "fec8b9b6",
   "metadata": {},
   "outputs": [],
   "source": [
    "ord('p'),ord('y'),ord('t'),ord('h'),ord('o'),ord('n')"
   ]
  },
  {
   "cell_type": "code",
   "execution_count": null,
   "id": "13863c66",
   "metadata": {},
   "outputs": [],
   "source": [
    "max('python')"
   ]
  },
  {
   "cell_type": "code",
   "execution_count": null,
   "id": "80e266d7",
   "metadata": {},
   "outputs": [],
   "source": [
    "min('python')"
   ]
  },
  {
   "cell_type": "code",
   "execution_count": null,
   "id": "c47b307a",
   "metadata": {},
   "outputs": [],
   "source": [
    "chr(112),ord('p')"
   ]
  },
  {
   "cell_type": "code",
   "execution_count": null,
   "id": "cdd13659",
   "metadata": {},
   "outputs": [],
   "source": [
    "str1='123-100'\n",
    "max(str1)"
   ]
  },
  {
   "cell_type": "code",
   "execution_count": null,
   "id": "14750185",
   "metadata": {},
   "outputs": [],
   "source": [
    "ord('-'),ord('3')"
   ]
  },
  {
   "cell_type": "code",
   "execution_count": null,
   "id": "cc739c3a",
   "metadata": {},
   "outputs": [],
   "source": [
    "# how many ascii values are existing\n",
    "for i in range(33,128):\n",
    "    print(i,'=',chr(i),end=',')"
   ]
  },
  {
   "cell_type": "code",
   "execution_count": null,
   "id": "f1a5eee1",
   "metadata": {},
   "outputs": [],
   "source": [
    "'Banana'>'banana'      #'B':66  'b':99   66>99"
   ]
  },
  {
   "cell_type": "code",
   "execution_count": null,
   "id": "1404642e",
   "metadata": {},
   "outputs": [],
   "source": [
    "'Banana'>'BAnana'      #a='97'    'A':65"
   ]
  },
  {
   "cell_type": "code",
   "execution_count": null,
   "id": "1468b032",
   "metadata": {},
   "outputs": [],
   "source": [
    "################################################len###################\n",
    "str1='i like python'\n",
    "len(str1)"
   ]
  },
  {
   "cell_type": "code",
   "execution_count": null,
   "id": "6e86b14f",
   "metadata": {},
   "outputs": [],
   "source": [
    "str2=''        # empty string\n",
    "len(str2)"
   ]
  },
  {
   "cell_type": "code",
   "execution_count": null,
   "id": "9d7dc5c2",
   "metadata": {},
   "outputs": [],
   "source": [
    "str3=' '       #it has one space\n",
    "len(str3)"
   ]
  },
  {
   "cell_type": "code",
   "execution_count": null,
   "id": "2e74ec5a",
   "metadata": {},
   "outputs": [],
   "source": [
    "reversed('python')\n",
    "\n",
    "#<output is stored inherently>\n",
    "#we use the for loop to get the output"
   ]
  },
  {
   "cell_type": "code",
   "execution_count": null,
   "id": "4936de5a",
   "metadata": {},
   "outputs": [],
   "source": [
    "'p' in 'python'\n",
    "'y' in 'python'\n",
    "'t' in 'python'\n",
    "'h' in 'python'\n",
    "'o' in 'python'\n",
    "'n' in 'python'\n",
    "\n",
    "for i in 'python':\n",
    "    print(i)"
   ]
  },
  {
   "cell_type": "code",
   "execution_count": null,
   "id": "6749d0a3",
   "metadata": {},
   "outputs": [],
   "source": [
    "for i in reversed('python'):\n",
    "    print(i)"
   ]
  },
  {
   "cell_type": "code",
   "execution_count": null,
   "id": "61c80e95",
   "metadata": {},
   "outputs": [],
   "source": [
    "reversed('python')"
   ]
  },
  {
   "cell_type": "code",
   "execution_count": null,
   "id": "d7a2dbaa",
   "metadata": {},
   "outputs": [],
   "source": [
    "s1='apple'\n",
    "for i in s1:\n",
    "    print(i)"
   ]
  },
  {
   "cell_type": "code",
   "execution_count": null,
   "id": "928c8812",
   "metadata": {},
   "outputs": [],
   "source": []
  },
  {
   "cell_type": "code",
   "execution_count": null,
   "id": "0f12a3d3",
   "metadata": {},
   "outputs": [],
   "source": [
    "sorted('python')\n",
    "\n",
    "\n",
    "\n",
    "# by default reversed=false: acending order\n",
    "# sorted keyword sort the letters\n",
    "# [104,110,111,112,116,121]"
   ]
  },
  {
   "cell_type": "code",
   "execution_count": null,
   "id": "24c387e4",
   "metadata": {},
   "outputs": [],
   "source": [
    "sorted('python',reverse=True)"
   ]
  },
  {
   "cell_type": "code",
   "execution_count": null,
   "id": "3d376f4a",
   "metadata": {},
   "outputs": [],
   "source": [
    "for i in 'python':\n",
    "    print(i,ord(i))"
   ]
  },
  {
   "cell_type": "code",
   "execution_count": null,
   "id": "5a72b114",
   "metadata": {},
   "outputs": [],
   "source": [
    "- type\n",
    "\n",
    "-max\n",
    "\n",
    "-min\n",
    "\n",
    "   -ord\n",
    "    \n",
    "   -chr\n",
    "\n",
    "-len\n",
    "\n",
    "-reversed\n",
    "\n",
    "-in\n",
    "\n",
    "-sorted"
   ]
  },
  {
   "cell_type": "code",
   "execution_count": null,
   "id": "42957003",
   "metadata": {},
   "outputs": [],
   "source": [
    "str1='hello'\n",
    "str2='python'\n",
    "\n",
    "# concatenation\n",
    "str1+ ' '+str2\n",
    "\n",
    "'helo'+'python'"
   ]
  },
  {
   "cell_type": "code",
   "execution_count": null,
   "id": "321179bc",
   "metadata": {},
   "outputs": [],
   "source": [
    "str1-str2"
   ]
  },
  {
   "cell_type": "raw",
   "id": "99bec307",
   "metadata": {},
   "source": [
    "str1*str2\n",
    "# str and str\n",
    "# non int type and str"
   ]
  },
  {
   "cell_type": "code",
   "execution_count": null,
   "id": "c25a0024",
   "metadata": {},
   "outputs": [],
   "source": [
    "3*str2"
   ]
  },
  {
   "cell_type": "code",
   "execution_count": null,
   "id": "5dea7e16",
   "metadata": {},
   "outputs": [],
   "source": [
    "str1/str2"
   ]
  },
  {
   "cell_type": "code",
   "execution_count": null,
   "id": "deddf58f",
   "metadata": {},
   "outputs": [],
   "source": [
    "- type\n",
    "\n",
    "-max\n",
    "\n",
    "-min\n",
    "\n",
    "   -ord\n",
    "    \n",
    "   -chr\n",
    "\n",
    "-len\n",
    "\n",
    "-reversed\n",
    "\n",
    "-in\n",
    "\n",
    "-sorted\n",
    "\n",
    "-concatenation"
   ]
  },
  {
   "cell_type": "code",
   "execution_count": null,
   "id": "2872876d",
   "metadata": {},
   "outputs": [],
   "source": [
    "index\n",
    "\n",
    "\n",
    "in python index start with zero"
   ]
  },
  {
   "cell_type": "code",
   "execution_count": null,
   "id": "ab9ef463",
   "metadata": {},
   "outputs": [],
   "source": [
    "str1='python'\n",
    "\n",
    "\n",
    "#-6 -5 -4 -3 -2 -1\n",
    "#p   y  t  h  o  n\n",
    "#0   1  2  3  4  5\n",
    "\n",
    "str1"
   ]
  },
  {
   "cell_type": "code",
   "execution_count": null,
   "id": "93ec1e6e",
   "metadata": {},
   "outputs": [],
   "source": [
    "str1[0]  # 'p'\n",
    "str1[1]  # 'y'\n",
    "str1[2]  # 't'\n",
    "str1[3]  # 'h'\n",
    "str1[4]  # 'o'\n",
    "str1[5]  # 'n'\n",
    "\n",
    "for i in range(6):\n",
    "    print(str1[i])"
   ]
  },
  {
   "cell_type": "code",
   "execution_count": null,
   "id": "432b208d",
   "metadata": {},
   "outputs": [],
   "source": [
    "str1='python\n",
    "# i want ton iterate this\n",
    "#in : i means direct letter\n",
    "#range : i mean number"
   ]
  },
  {
   "cell_type": "code",
   "execution_count": null,
   "id": "10847bb8",
   "metadata": {},
   "outputs": [],
   "source": [
    "str1='python'\n",
    "for i in str1:\n",
    "    print(i,end=' ')\n",
    "    \n",
    "str1='python'\n",
    "for i in range(6):\n",
    "    print(str1[i],end=' ') "
   ]
  },
  {
   "cell_type": "markdown",
   "id": "63d9b03d",
   "metadata": {},
   "source": [
    "# **1 feb session 17**"
   ]
  },
  {
   "cell_type": "markdown",
   "id": "bd5cf89e",
   "metadata": {},
   "source": [
    "$Practice$"
   ]
  },
  {
   "cell_type": "code",
   "execution_count": null,
   "id": "ab8adbb6",
   "metadata": {},
   "outputs": [],
   "source": [
    "string1='python'\n",
    "n=len(string1)\n",
    "for i in range(n):\n",
    "    print(i,string1[i])"
   ]
  },
  {
   "cell_type": "code",
   "execution_count": null,
   "id": "2a62fb5f",
   "metadata": {},
   "outputs": [],
   "source": [
    "#WAP print the index of a given string\n",
    "# str1='python'\n",
    "# o/p: the index of p is 0\n",
    "# the index of y is 1\n",
    "\n",
    "string1='python'\n",
    "n=len(string1)\n",
    "for i in range(n):\n",
    "    print(f\"the positive index of {string1[i]} is {i}\")\n",
    "    "
   ]
  },
  {
   "cell_type": "code",
   "execution_count": null,
   "id": "54ae4006",
   "metadata": {},
   "outputs": [],
   "source": [
    "string1='python'\n",
    "n=len(string1)\n",
    "for i in range(-n,0):\n",
    "    print(f\"the negative index of {string1[i]} is {i}\")"
   ]
  },
  {
   "cell_type": "code",
   "execution_count": null,
   "id": "1addd724",
   "metadata": {},
   "outputs": [],
   "source": [
    "string1='python'\n",
    "n=len(string1)\n",
    "for i in range(n): # 0 to len(string)-1\n",
    "    print(f\"the postive index of {string1[i]} is {i}\")\n",
    "for i in range(-n,0): # -len(string) to -1\n",
    "    print(f\"the negative index of {string1[i]} is {i}\")\n"
   ]
  },
  {
   "cell_type": "code",
   "execution_count": null,
   "id": "fb305087",
   "metadata": {},
   "outputs": [],
   "source": [
    "s1=\"hello how are you\"\n",
    "n=len(s1)\n",
    "for i in range(n):\n",
    "    print(f\"the positive index of {s1[i]} is {i}\")"
   ]
  },
  {
   "cell_type": "code",
   "execution_count": null,
   "id": "498b8557",
   "metadata": {},
   "outputs": [],
   "source": [
    "s1=\"hello how are you\"\n",
    "n=len(s1)\n",
    "for i in range(-n,0): \n",
    "    print(f\"the negative index of {s1[i]} is {i}\")"
   ]
  },
  {
   "cell_type": "code",
   "execution_count": null,
   "id": "f0515605",
   "metadata": {},
   "outputs": [],
   "source": [
    "# the postive index is 0 and negative index is -6 for p\n",
    "# the postive index is 1 and negative index is -5 for y\n",
    "s1='python'\n",
    "n=len(s1) # 6\n",
    "for i in range(n):\n",
    "    print(i,i-n)"
   ]
  },
  {
   "cell_type": "code",
   "execution_count": null,
   "id": "2d78e4a6",
   "metadata": {},
   "outputs": [],
   "source": [
    "# WAP find the number of 'a' present in a given string\n",
    "# s1='hello how are you i am good'\n",
    "# ans: 2\n",
    "# count=0\n",
    "# Idea: iterat using for loop\n",
    "# get each letter\n",
    "# whenever that letter equal to a\n",
    "# count= count+1\n",
    "\n",
    "s1='hello how are you i am good'\n",
    "count=0\n",
    "for i in s1:\n",
    "    if i=='a':\n",
    "        count=count+1\n",
    "   \n",
    "print(\"total number of 'a' are\",count)"
   ]
  },
  {
   "cell_type": "code",
   "execution_count": null,
   "id": "1c9e3795",
   "metadata": {},
   "outputs": [],
   "source": [
    "# WAP find the indexes of 'a' present in a given string\n",
    "# s1='hello how are you i am good'\n",
    "# ans:10,20\n",
    "# idea: iterate the loop using range\n",
    "# automaticall i becomes number\n",
    "# condition\n",
    "# print only i\n",
    "\n",
    "s1='hello how are you i am good'\n",
    "for i in range(len(s1)):\n",
    "    if s1[i]=='a':\n",
    "        print(i)"
   ]
  },
  {
   "cell_type": "markdown",
   "id": "f5df21bc",
   "metadata": {},
   "source": [
    "s1='hello how are you i am good'\n",
    "for i in range(len(s1)):\n"
   ]
  },
  {
   "cell_type": "markdown",
   "id": "028471aa",
   "metadata": {},
   "source": [
    "#"
   ]
  },
  {
   "cell_type": "code",
   "execution_count": null,
   "id": "fdcbdd6f",
   "metadata": {},
   "outputs": [],
   "source": []
  },
  {
   "cell_type": "code",
   "execution_count": null,
   "id": "5dd3825a",
   "metadata": {},
   "outputs": [],
   "source": []
  },
  {
   "cell_type": "code",
   "execution_count": null,
   "id": "e0585ecc",
   "metadata": {},
   "outputs": [],
   "source": []
  },
  {
   "cell_type": "code",
   "execution_count": null,
   "id": "29269c80",
   "metadata": {},
   "outputs": [],
   "source": []
  },
  {
   "cell_type": "code",
   "execution_count": null,
   "id": "b481c480",
   "metadata": {},
   "outputs": [],
   "source": []
  },
  {
   "cell_type": "code",
   "execution_count": null,
   "id": "1eaa0091",
   "metadata": {},
   "outputs": [],
   "source": []
  },
  {
   "cell_type": "code",
   "execution_count": null,
   "id": "a900f1eb",
   "metadata": {},
   "outputs": [],
   "source": []
  },
  {
   "cell_type": "code",
   "execution_count": null,
   "id": "b4cac39e",
   "metadata": {},
   "outputs": [],
   "source": []
  },
  {
   "cell_type": "code",
   "execution_count": null,
   "id": "ca17b24d",
   "metadata": {},
   "outputs": [],
   "source": []
  },
  {
   "cell_type": "markdown",
   "id": "f3ad69dc",
   "metadata": {},
   "source": [
    "# **$slice**"
   ]
  },
  {
   "cell_type": "code",
   "execution_count": null,
   "id": "0632a5b0",
   "metadata": {},
   "outputs": [],
   "source": [
    "s1='hello how are you'"
   ]
  },
  {
   "cell_type": "code",
   "execution_count": null,
   "id": "3a32e119",
   "metadata": {},
   "outputs": [],
   "source": [
    "-17 -16 -15 -14 -13 -12 -11 -10 -9 -8 -7 -6  -5 -4 -3 -2 -1\n",
    "h    e   l   l  o    h   o   w   a  r  e  y   o  u\n",
    "0    1   2   3  4  5 6   7   8 9 10 11  14   15 16"
   ]
  },
  {
   "cell_type": "code",
   "execution_count": null,
   "id": "0cc950e5",
   "metadata": {},
   "outputs": [],
   "source": [
    "S1[11:-11:-1]"
   ]
  },
  {
   "cell_type": "raw",
   "id": "b7e16f99",
   "metadata": {},
   "source": []
  },
  {
   "cell_type": "code",
   "execution_count": null,
   "id": "bc8e538e",
   "metadata": {},
   "outputs": [],
   "source": [
    "s1[:]\n",
    "s1[::1]\n",
    "s1[::]\n",
    "s1[::-1]"
   ]
  },
  {
   "cell_type": "code",
   "execution_count": null,
   "id": "07b92a69",
   "metadata": {},
   "outputs": [],
   "source": [
    "$string methods$"
   ]
  },
  {
   "cell_type": "code",
   "execution_count": null,
   "id": "99ecebf4",
   "metadata": {},
   "outputs": [],
   "source": [
    "s1='restart'\n",
    "s1=\n",
    "s1.replace('r','$',6)\n"
   ]
  },
  {
   "cell_type": "code",
   "execution_count": null,
   "id": "c9bca59e",
   "metadata": {},
   "outputs": [],
   "source": [
    "18th session"
   ]
  },
  {
   "cell_type": "code",
   "execution_count": null,
   "id": "6838d079",
   "metadata": {},
   "outputs": [],
   "source": []
  },
  {
   "cell_type": "code",
   "execution_count": null,
   "id": "fb97c543",
   "metadata": {},
   "outputs": [],
   "source": [
    "$index$"
   ]
  },
  {
   "cell_type": "code",
   "execution_count": null,
   "id": "4700eeb1",
   "metadata": {},
   "outputs": [],
   "source": [
    "s1='python'\n",
    "s1.index('y')"
   ]
  },
  {
   "cell_type": "code",
   "execution_count": null,
   "id": "1bca215d",
   "metadata": {},
   "outputs": [],
   "source": [
    "str2='hai hai hai'\n",
    "i1=str2.index('a')\n",
    "i2=str2.index('a',2)\n",
    "i3=str2.index('a',6)"
   ]
  },
  {
   "cell_type": "code",
   "execution_count": null,
   "id": "1f73bf8e",
   "metadata": {},
   "outputs": [],
   "source": [
    "str2='hai hai hai'\n",
    "i1=str2.index('a')\n",
    "i2=str2.index('a',i1+1)\n",
    "i3=str2.index('a',i2+1)\n",
    "\n",
    "i1,i2,i3"
   ]
  },
  {
   "cell_type": "code",
   "execution_count": null,
   "id": "d0cca6e4",
   "metadata": {},
   "outputs": [],
   "source": [
    "for i in range of len((str2)):\n",
    "    if "
   ]
  },
  {
   "cell_type": "code",
   "execution_count": null,
   "id": "dceb5e6f",
   "metadata": {},
   "outputs": [],
   "source": [
    "**"
   ]
  },
  {
   "cell_type": "markdown",
   "id": "17a69f43",
   "metadata": {},
   "source": [
    "# $find$"
   ]
  },
  {
   "cell_type": "code",
   "execution_count": null,
   "id": "92c6a8f3",
   "metadata": {},
   "outputs": [],
   "source": [
    "s2='virat.kohli@rcb.com'\n",
    "i1=s2.find['0:.']\n",
    "i2=s2.find['.:@']\n",
    "i3=s2.find['@:.']\n",
    "\n"
   ]
  },
  {
   "cell_type": "code",
   "execution_count": null,
   "id": "9e68a0c8",
   "metadata": {},
   "outputs": [],
   "source": [
    "s2='virat.kohli@rcb.com'\n",
    "i1=s2.find('0:.')\n",
    "\n",
    "i2=s2.find('.:@')\n"
   ]
  },
  {
   "cell_type": "code",
   "execution_count": null,
   "id": "2e3fefcc",
   "metadata": {},
   "outputs": [],
   "source": [
    "s2='virat.kohli@rcb.com'\n",
    "i1=s2.find'0:.']\n",
    "i2=s2.find['']\n",
    "i3=s2.find['@:.(s2)']\n"
   ]
  },
  {
   "cell_type": "code",
   "execution_count": null,
   "id": "028bf6e7",
   "metadata": {},
   "outputs": [],
   "source": [
    "s1='virat.kohli@rcb.com'\n",
    "i1=s1.index('.')\n",
    "i2=s1.index('i1,@')\n",
    "i3=s1.index('i2,i1')"
   ]
  },
  {
   "cell_type": "markdown",
   "id": "e442e1a5",
   "metadata": {},
   "source": [
    "# $lstrip-rstriop-strip$"
   ]
  },
  {
   "cell_type": "code",
   "execution_count": null,
   "id": "b60306bb",
   "metadata": {},
   "outputs": [],
   "source": [
    "str2='python'\n",
    "str2=' python'\n",
    "str2='python '\n",
    "str2.lstrip(),str2.rstrip(),str2.strip()"
   ]
  },
  {
   "cell_type": "code",
   "execution_count": null,
   "id": "ffbe79c1",
   "metadata": {},
   "outputs": [],
   "source": [
    "str1='hello /r/r/r/n/ how are you'\n"
   ]
  },
  {
   "cell_type": "code",
   "execution_count": null,
   "id": "512a5b8f",
   "metadata": {},
   "outputs": [],
   "source": [
    "str1='hello /r/r/r/n/ how are you'\n",
    "\n",
    "str1.strip('/r/r/r/n/')"
   ]
  },
  {
   "cell_type": "code",
   "execution_count": null,
   "id": "0f8bad5b",
   "metadata": {},
   "outputs": [],
   "source": [
    "s1='hai how are you'\n",
    "s1.endswith('u')"
   ]
  },
  {
   "cell_type": "code",
   "execution_count": null,
   "id": "69c5f2c2",
   "metadata": {},
   "outputs": [],
   "source": [
    "s1='hai how are you'\n",
    "s1.split('a')"
   ]
  },
  {
   "cell_type": "code",
   "execution_count": null,
   "id": "e9137d0b",
   "metadata": {},
   "outputs": [],
   "source": [
    "s1='isalnum'\n",
    "s1.isalnum()"
   ]
  },
  {
   "cell_type": "code",
   "execution_count": null,
   "id": "ddef2a88",
   "metadata": {},
   "outputs": [],
   "source": [
    "s1='isspace'\n",
    "s1.isalnum()\n",
    "\n",
    "s1.isalpha()\n",
    "\n",
    "s1.isascii()"
   ]
  },
  {
   "cell_type": "code",
   "execution_count": null,
   "id": "b3c24492",
   "metadata": {},
   "outputs": [],
   "source": [
    "s1.isalnum()\n",
    "s1.isalnum()"
   ]
  },
  {
   "cell_type": "code",
   "execution_count": null,
   "id": "d11db347",
   "metadata": {},
   "outputs": [],
   "source": [
    "s1.isalnum()\n",
    "s1.isspace()"
   ]
  },
  {
   "cell_type": "code",
   "execution_count": null,
   "id": "821d24c8",
   "metadata": {},
   "outputs": [],
   "source": [
    "s1='  swamy23 '\n",
    "s1.isspace()"
   ]
  },
  {
   "cell_type": "code",
   "execution_count": null,
   "id": "44b3799a",
   "metadata": {},
   "outputs": [],
   "source": [
    "s1='xyz'\n",
    "s1.isalpha()"
   ]
  },
  {
   "cell_type": "code",
   "execution_count": null,
   "id": "c78cf626",
   "metadata": {},
   "outputs": [],
   "source": [
    "s1='123'\n",
    "s1.isnumeric()"
   ]
  },
  {
   "cell_type": "code",
   "execution_count": null,
   "id": "2866555f",
   "metadata": {},
   "outputs": [],
   "source": [
    "s1='swamy1.123'\n",
    "s1.isdecimal()"
   ]
  },
  {
   "cell_type": "code",
   "execution_count": 9,
   "id": "6274b7e7",
   "metadata": {},
   "outputs": [
    {
     "data": {
      "text/plain": [
       "(1, 5, 9, 13)"
      ]
     },
     "execution_count": 9,
     "metadata": {},
     "output_type": "execute_result"
    }
   ],
   "source": [
    "s1='hai hai hai hai'\n",
    "i1=s1.index('a')\n",
    "i2=s1.index('a',i1+1)\n",
    "i3=s1.index('a',i2+1)\n",
    "i4=s1.index('a',i3+1)\n",
    "i1,i2,i3,i4\n"
   ]
  },
  {
   "cell_type": "code",
   "execution_count": null,
   "id": "cd4742bd",
   "metadata": {},
   "outputs": [],
   "source": []
  },
  {
   "cell_type": "code",
   "execution_count": null,
   "id": "f494d607",
   "metadata": {},
   "outputs": [],
   "source": []
  },
  {
   "cell_type": "markdown",
   "id": "ecaf988a",
   "metadata": {},
   "source": [
    " "
   ]
  },
  {
   "cell_type": "code",
   "execution_count": 15,
   "id": "e5f85c2e",
   "metadata": {},
   "outputs": [
    {
     "data": {
      "text/plain": [
       "(1, 5, 9, 13, -1)"
      ]
     },
     "execution_count": 15,
     "metadata": {},
     "output_type": "execute_result"
    }
   ],
   "source": [
    "str2='hai hai hai hai'\n",
    "i1=str2.find('a') # 1\n",
    "i2=str2.find('a',i1+1) # 5\n",
    "i3=str2.find('a',i2+1) # 9\n",
    "i4=str2.find('a',i3+1)\n",
    "i5=str2.find('a',i4+1)\n",
    "i1,i2,i3,i4,i5"
   ]
  },
  {
   "cell_type": "code",
   "execution_count": null,
   "id": "130e487b",
   "metadata": {},
   "outputs": [],
   "source": []
  },
  {
   "cell_type": "code",
   "execution_count": null,
   "id": "d00ee12f",
   "metadata": {},
   "outputs": [],
   "source": []
  },
  {
   "cell_type": "code",
   "execution_count": null,
   "id": "362886e7",
   "metadata": {},
   "outputs": [],
   "source": []
  },
  {
   "cell_type": "code",
   "execution_count": null,
   "id": "8b9975c0",
   "metadata": {},
   "outputs": [],
   "source": []
  },
  {
   "cell_type": "code",
   "execution_count": null,
   "id": "1824a7ac",
   "metadata": {},
   "outputs": [],
   "source": []
  },
  {
   "cell_type": "code",
   "execution_count": null,
   "id": "62743e7f",
   "metadata": {},
   "outputs": [],
   "source": []
  },
  {
   "cell_type": "code",
   "execution_count": null,
   "id": "583cf723",
   "metadata": {},
   "outputs": [],
   "source": []
  },
  {
   "cell_type": "code",
   "execution_count": null,
   "id": "13ffb0cf",
   "metadata": {},
   "outputs": [],
   "source": []
  },
  {
   "cell_type": "code",
   "execution_count": null,
   "id": "3f630201",
   "metadata": {},
   "outputs": [],
   "source": []
  },
  {
   "cell_type": "code",
   "execution_count": null,
   "id": "501dfd20",
   "metadata": {},
   "outputs": [],
   "source": []
  }
 ],
 "metadata": {
  "kernelspec": {
   "display_name": "Python 3 (ipykernel)",
   "language": "python",
   "name": "python3"
  },
  "language_info": {
   "codemirror_mode": {
    "name": "ipython",
    "version": 3
   },
   "file_extension": ".py",
   "mimetype": "text/x-python",
   "name": "python",
   "nbconvert_exporter": "python",
   "pygments_lexer": "ipython3",
   "version": "3.11.5"
  }
 },
 "nbformat": 4,
 "nbformat_minor": 5
}
