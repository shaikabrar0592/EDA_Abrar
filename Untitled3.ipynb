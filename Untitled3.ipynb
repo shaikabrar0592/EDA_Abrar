{
 "cells": [
  {
   "cell_type": "code",
   "execution_count": null,
   "id": "fea2b4e7",
   "metadata": {},
   "outputs": [],
   "source": [
    "-basic python\n",
    "\n",
    "-conditionol statment if-else\n",
    "\n",
    "-\n",
    "\n",
    "-packages vs functions\n",
    "\n",
    "-loop\n",
    "\n",
    "   for while\n",
    "    \n",
    "any program"
   ]
  },
  {
   "cell_type": "code",
   "execution_count": null,
   "id": "fae2708a",
   "metadata": {},
   "outputs": [],
   "source": [
    "# loop:\n",
    "# function"
   ]
  },
  {
   "cell_type": "code",
   "execution_count": null,
   "id": "d45b8936",
   "metadata": {},
   "outputs": [],
   "source": []
  },
  {
   "cell_type": "code",
   "execution_count": 1,
   "id": "8f09b555",
   "metadata": {},
   "outputs": [
    {
     "name": "stdout",
     "output_type": "stream",
     "text": [
      "0\n",
      "1\n",
      "2\n",
      "3\n",
      "4\n"
     ]
    }
   ],
   "source": [
    "for i in range(5):\n",
    "    print(i)"
   ]
  },
  {
   "cell_type": "code",
   "execution_count": null,
   "id": "adb2c744",
   "metadata": {},
   "outputs": [],
   "source": [
    "If you want to run any loop we require 3 things\n",
    "  \n",
    "-intial point: to start the loop:\n",
    "        \n",
    "-        "
   ]
  },
  {
   "cell_type": "code",
   "execution_count": null,
   "id": "9d8e83f7",
   "metadata": {},
   "outputs": [],
   "source": []
  },
  {
   "cell_type": "code",
   "execution_count": null,
   "id": "46bfcf48",
   "metadata": {},
   "outputs": [],
   "source": [
    "$pattern -1$\n",
    "\n",
    "range(stop)\n",
    "\n",
    "-start value by defuail is 0\n",
    "\n",
    "-in python index startes with zero\n",
    "\n",
    "-by default it is increment by 1\n",
    "\n",
    "pattern-1\n",
    "\n",
    "range(stop)\n",
    "\n",
    "."
   ]
  },
  {
   "cell_type": "code",
   "execution_count": 2,
   "id": "340f8cd5",
   "metadata": {},
   "outputs": [
    {
     "name": "stdout",
     "output_type": "stream",
     "text": [
      "0\n",
      "1\n",
      "2\n",
      "3\n",
      "4\n",
      "5\n",
      "6\n",
      "7\n",
      "8\n",
      "9\n"
     ]
    }
   ],
   "source": [
    "for i in range(10):     #start=0  last=9\n",
    "    print(i)"
   ]
  },
  {
   "cell_type": "code",
   "execution_count": null,
   "id": "b77cece7",
   "metadata": {},
   "outputs": [],
   "source": []
  },
  {
   "cell_type": "code",
   "execution_count": null,
   "id": "f6e6005b",
   "metadata": {},
   "outputs": [],
   "source": [
    "print(1,end=\" \")\n",
    "print(2,end=\" \")\n"
   ]
  },
  {
   "cell_type": "code",
   "execution_count": 4,
   "id": "2d84878d",
   "metadata": {},
   "outputs": [
    {
     "name": "stdout",
     "output_type": "stream",
     "text": [
      "0 1 2 3 4 5 6 7 8 9 "
     ]
    }
   ],
   "source": [
    "for i in range(10):\n",
    "    print(i,end=\" \")"
   ]
  },
  {
   "cell_type": "code",
   "execution_count": null,
   "id": "c5bd4a9f",
   "metadata": {},
   "outputs": [],
   "source": []
  },
  {
   "cell_type": "code",
   "execution_count": 5,
   "id": "9336ac10",
   "metadata": {},
   "outputs": [
    {
     "ename": "SyntaxError",
     "evalue": "invalid syntax (209986391.py, line 3)",
     "output_type": "error",
     "traceback": [
      "\u001b[1;36m  Cell \u001b[1;32mIn[5], line 3\u001b[1;36m\u001b[0m\n\u001b[1;33m    -start value taken as  start m\u001b[0m\n\u001b[1;37m           ^\u001b[0m\n\u001b[1;31mSyntaxError\u001b[0m\u001b[1;31m:\u001b[0m invalid syntax\n"
     ]
    }
   ],
   "source": [
    "range(start,stop)\n",
    "\n",
    "-start value taken as  start m\n",
    "\n",
    "\n",
    "\n",
    "\n",
    "range(5,11)\n",
    "start=5\n",
    "inc=1\n",
    "last=11-1\n"
   ]
  },
  {
   "cell_type": "code",
   "execution_count": 6,
   "id": "2c7bdde4",
   "metadata": {
    "scrolled": true
   },
   "outputs": [
    {
     "name": "stdout",
     "output_type": "stream",
     "text": [
      "5 6 7 8 9 "
     ]
    }
   ],
   "source": [
    "for i in range(5,10):\n",
    "    print(i,end=\" \")"
   ]
  },
  {
   "cell_type": "code",
   "execution_count": null,
   "id": "2833854c",
   "metadata": {},
   "outputs": [],
   "source": [
    "###################################Pattern-3#####################################\n"
   ]
  },
  {
   "cell_type": "code",
   "execution_count": null,
   "id": "ae3afa09",
   "metadata": {},
   "outputs": [],
   "source": [
    "range(start,stop,step)\n",
    "\n",
    "-step=start\n",
    "\n",
    "-step : how much gap\n",
    "    -if step size  is posituve vak]le]ue consider as  positive direction\n",
    "    \n",
    "    -if step size is negative value consider as negative value\n",
    "    \n",
    "-last    "
   ]
  },
  {
   "cell_type": "code",
   "execution_count": null,
   "id": "e46da944",
   "metadata": {},
   "outputs": [],
   "source": [
    "for i in range (3,15,2):\n",
    "    print(i,end=\" \")\n",
    "    \n",
    "#step=3\n",
    "#step=2\n",
    "#step=15"
   ]
  },
  {
   "cell_type": "code",
   "execution_count": null,
   "id": "490e9f2e",
   "metadata": {},
   "outputs": [],
   "source": [
    "for i in range(3,-15,2):\n",
    "    print(i,end=\" \")\n",
    "\n",
    "    \n",
    "#start=3   stop=-15-1=-16    "
   ]
  },
  {
   "cell_type": "code",
   "execution_count": 8,
   "id": "766f0bfd",
   "metadata": {},
   "outputs": [
    {
     "data": {
      "text/plain": [
       "range(5, 15, -3)"
      ]
     },
     "execution_count": 8,
     "metadata": {},
     "output_type": "execute_result"
    }
   ],
   "source": [
    "range(5,15,3)\n"
   ]
  },
  {
   "cell_type": "code",
   "execution_count": 9,
   "id": "b079ae5d",
   "metadata": {},
   "outputs": [
    {
     "name": "stdout",
     "output_type": "stream",
     "text": [
      "5 8 11 14 "
     ]
    }
   ],
   "source": [
    "for i in range(5,15,3):\n",
    "    print(i,end=\" \")"
   ]
  },
  {
   "cell_type": "code",
   "execution_count": 12,
   "id": "d3a69deb",
   "metadata": {},
   "outputs": [],
   "source": [
    "for i in range(5,15,-3):\n",
    "    print(i,end=\" \")"
   ]
  },
  {
   "cell_type": "code",
   "execution_count": 13,
   "id": "96b17085",
   "metadata": {},
   "outputs": [
    {
     "name": "stdout",
     "output_type": "stream",
     "text": [
      "5 2 -1 -4 -7 -10 -13 "
     ]
    }
   ],
   "source": [
    "for i in range(5,-15,-3):\n",
    "    print(i,end=\" \")"
   ]
  },
  {
   "cell_type": "code",
   "execution_count": 14,
   "id": "76233c95",
   "metadata": {},
   "outputs": [],
   "source": [
    "for i in range(5,-25,3):\n",
    "    print(i,end=\" \")"
   ]
  },
  {
   "cell_type": "code",
   "execution_count": null,
   "id": "a9fae41b",
   "metadata": {},
   "outputs": [],
   "source": [
    "for i in range(-5,15,3):\n",
    "    print(i)"
   ]
  },
  {
   "cell_type": "code",
   "execution_count": null,
   "id": "87510c87",
   "metadata": {},
   "outputs": [],
   "source": [
    "#wap ask the user print square of the numbers between 5 to 10\n",
    "#print(the square of 5 is 25)\n"
   ]
  },
  {
   "cell_type": "code",
   "execution_count": 17,
   "id": "b395c85d",
   "metadata": {},
   "outputs": [
    {
     "ename": "SyntaxError",
     "evalue": "invalid syntax (437273368.py, line 1)",
     "output_type": "error",
     "traceback": [
      "\u001b[1;36m  Cell \u001b[1;32mIn[17], line 1\u001b[1;36m\u001b[0m\n\u001b[1;33m    for i range(5,10):\u001b[0m\n\u001b[1;37m          ^\u001b[0m\n\u001b[1;31mSyntaxError\u001b[0m\u001b[1;31m:\u001b[0m invalid syntax\n"
     ]
    }
   ],
   "source": [
    "for i range(5,10):\n",
    "    print(f\"the square of {i}isi*i\")"
   ]
  },
  {
   "cell_type": "code",
   "execution_count": null,
   "id": "7dcf7930",
   "metadata": {},
   "outputs": [],
   "source": [
    "#implement the  9th table\n",
    "9 x 1=9\n",
    "9 x 2=18\n",
    "\n",
    "\n",
    "9 x 10= 90\n"
   ]
  },
  {
   "cell_type": "code",
   "execution_count": null,
   "id": "5a05ad3a",
   "metadata": {},
   "outputs": [],
   "source": []
  },
  {
   "cell_type": "code",
   "execution_count": null,
   "id": "dd2c8d9c",
   "metadata": {},
   "outputs": [],
   "source": []
  }
 ],
 "metadata": {
  "kernelspec": {
   "display_name": "Python 3 (ipykernel)",
   "language": "python",
   "name": "python3"
  },
  "language_info": {
   "codemirror_mode": {
    "name": "ipython",
    "version": 3
   },
   "file_extension": ".py",
   "mimetype": "text/x-python",
   "name": "python",
   "nbconvert_exporter": "python",
   "pygments_lexer": "ipython3",
   "version": "3.11.5"
  }
 },
 "nbformat": 4,
 "nbformat_minor": 5
}
