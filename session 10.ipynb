{
 "cells": [
  {
   "cell_type": "code",
   "execution_count": null,
   "id": "c22d91fc",
   "metadata": {},
   "outputs": [],
   "source": [
    "#wap ask the user enter a number\n",
    "#find it is an even or odd\n",
    "#creat a function on this\n",
    "    num=eval(input(\"enter a number\"))\n",
    "    if:\n",
    "        num%2==0:\n",
    "        print(\"even\")    \n",
    "    else:\n",
    "        print(\"odd\")\n",
    "\n",
    "\n",
    "    \n",
    "\n",
    " \n"
   ]
  },
  {
   "cell_type": "code",
   "execution_count": null,
   "id": "93f83268",
   "metadata": {},
   "outputs": [],
   "source": [
    "def even_odd():\n",
    "    try:\n",
    "    num=eval(input(\"enter a number\"))\n",
    "        if:\n",
    "            num%2==0:\n",
    "            print(\"even\")    \n",
    "        else:\n",
    "            print(\"odd\")"
   ]
  },
  {
   "cell_type": "code",
   "execution_count": null,
   "id": "3e75bf13",
   "metadata": {},
   "outputs": [],
   "source": []
  },
  {
   "cell_type": "code",
   "execution_count": null,
   "id": "e15d8c11",
   "metadata": {},
   "outputs": [],
   "source": []
  },
  {
   "cell_type": "code",
   "execution_count": null,
   "id": "5b903299",
   "metadata": {},
   "outputs": [],
   "source": [
    "#wap aask the user get a random number : num1\n",
    "\n",
    "\n",
    "\n",
    "\n",
    "      "
   ]
  },
  {
   "cell_type": "code",
   "execution_count": null,
   "id": "ff8589b9",
   "metadata": {},
   "outputs": [],
   "source": [
    "function withiout arguments\n",
    "\n",
    "till now we developed some functions\n",
    "\n",
    "inside bracket there isn no value\n",
    "    \n",
    "what ever u provide inside bracket is called as arguments or parameters    "
   ]
  },
  {
   "cell_type": "code",
   "execution_count": null,
   "id": "b7cb5eb7",
   "metadata": {},
   "outputs": [],
   "source": [
    " def avg "
   ]
  },
  {
   "cell_type": "code",
   "execution_count": null,
   "id": "90029c9e",
   "metadata": {},
   "outputs": [],
   "source": [
    "num1=500\n",
    "\n",
    "\n",
    "\n",
    "def summ(num1,num2):\n",
    "    add=num1+num2\n",
    "    print(add)\n",
    "    \n",
    "    \n",
    "num1=1000\n",
    "sum(150,50)\n",
    "\n"
   ]
  },
  {
   "cell_type": "code",
   "execution_count": null,
   "id": "5371e50b",
   "metadata": {},
   "outputs": [],
   "source": [
    "num1=500\n",
    "num1\n",
    "\n",
    "\n",
    "def summ(num1,num2):\n",
    "    add=num1+num2\n",
    "    print(add)\n",
    "    \n",
    "    \n",
    "num1=1000\n",
    "sum(150,50)\n",
    "\n"
   ]
  },
  {
   "cell_type": "code",
   "execution_count": null,
   "id": "a70e2dc1",
   "metadata": {},
   "outputs": [],
   "source": [
    "functions with aurguments \n",
    "locukl vs global \n",
    "retutn statment concept\n",
    "function function"
   ]
  },
  {
   "cell_type": "code",
   "execution_count": null,
   "id": "5188df6f",
   "metadata": {},
   "outputs": [],
   "source": []
  },
  {
   "cell_type": "code",
   "execution_count": null,
   "id": "80bef908",
   "metadata": {},
   "outputs": [],
   "source": []
  }
 ],
 "metadata": {
  "kernelspec": {
   "display_name": "Python 3 (ipykernel)",
   "language": "python",
   "name": "python3"
  },
  "language_info": {
   "codemirror_mode": {
    "name": "ipython",
    "version": 3
   },
   "file_extension": ".py",
   "mimetype": "text/x-python",
   "name": "python",
   "nbconvert_exporter": "python",
   "pygments_lexer": "ipython3",
   "version": "3.11.5"
  }
 },
 "nbformat": 4,
 "nbformat_minor": 5
}
