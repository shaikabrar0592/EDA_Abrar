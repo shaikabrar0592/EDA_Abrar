{
 "cells": [
  {
   "cell_type": "code",
   "execution_count": null,
   "id": "84d24aed",
   "metadata": {},
   "outputs": [],
   "source": [
    "#wap ask the user sum of first 10 natural numbers\n",
    "#step-1:   summ=0\n",
    "#step-2:   iterate thriugh loop range(1,11)\n",
    "#step-3:    \n",
    "\n",
    "count\n",
    "for i in range(1,11):\n",
    "    summ=summ+i\n",
    "    \n",
    "print    "
   ]
  },
  {
   "cell_type": "code",
   "execution_count": 5,
   "id": "e2605376",
   "metadata": {},
   "outputs": [
    {
     "name": "stdout",
     "output_type": "stream",
     "text": [
      "1\n",
      "2\n",
      "3\n",
      "4\n",
      "5\n",
      "6\n",
      "7\n",
      "8\n",
      "9\n"
     ]
    }
   ],
   "source": [
    "#wap as the user to find the divisors of a given numners\n",
    "#i want to know the divisors of 10\n",
    "\n",
    "\n",
    "#how many times you need to run the loop\n",
    "#step-1: choose yourb start and stop value\n",
    "#strp-2: iterTE through loop\n",
    "#step-3:      if num%i==0:\n",
    "#step-4:          print(i)\n",
    " \n",
    "    \n",
    "start=1\n",
    "stop=10\n",
    "\n",
    "for i in range(start,stop):\n",
    "    print(i)"
   ]
  },
  {
   "cell_type": "code",
   "execution_count": 4,
   "id": "fddbfd78",
   "metadata": {},
   "outputs": [
    {
     "ename": "SyntaxError",
     "evalue": "invalid syntax (3294410427.py, line 1)",
     "output_type": "error",
     "traceback": [
      "\u001b[1;36m  Cell \u001b[1;32mIn[4], line 1\u001b[1;36m\u001b[0m\n\u001b[1;33m    create a function for a above code\u001b[0m\n\u001b[1;37m           ^\u001b[0m\n\u001b[1;31mSyntaxError\u001b[0m\u001b[1;31m:\u001b[0m invalid syntax\n"
     ]
    }
   ],
   "source": [
    "create a function for a above code\n",
    "num as argument\n",
    "count as return"
   ]
  },
  {
   "cell_type": "code",
   "execution_count": 7,
   "id": "f1439a34",
   "metadata": {},
   "outputs": [
    {
     "name": "stdout",
     "output_type": "stream",
     "text": [
      "1 is the divisors for 50\n",
      "2 is the divisors for 50\n",
      "5 is the divisors for 50\n",
      "10 is the divisors for 50\n",
      "25 is the divisors for 50\n",
      "50 is the divisors for 50\n"
     ]
    },
    {
     "data": {
      "text/plain": [
       "('the number of divisors are:', 6)"
      ]
     },
     "execution_count": 7,
     "metadata": {},
     "output_type": "execute_result"
    }
   ],
   "source": [
    "def divisors(num):\n",
    "    start=1\n",
    "    stop=num+1\n",
    "    count=0\n",
    "    for i in range(start,stop):\n",
    "        if num%i==0:\n",
    "            print(f\"{i} is the divisors for {num}\")\n",
    "            count=count+1\n",
    "            \n",
    "    return(\"the number of divisors are:\",count)\n",
    "divisors(50)\n",
    "        \n",
    "    "
   ]
  },
  {
   "cell_type": "code",
   "execution_count": null,
   "id": "848ade57",
   "metadata": {},
   "outputs": [],
   "source": []
  },
  {
   "cell_type": "code",
   "execution_count": null,
   "id": "251074f7",
   "metadata": {},
   "outputs": [],
   "source": [
    "#wap ask the user get a random number\n",
    "#    ask the user enter a number\n",
    "#    if both are matching print you won\n",
    "#    else print you lost\n",
    "#give 3 chances\n",
    "\n",
    "#step-1:  import  <>\n",
    "#step-2:   \n",
    "#step-3:  use_num=eval()\n",
    "#step-4:  if  <>: orint(won)\n",
    "#step-5:  else: print(lost)\n"
   ]
  },
  {
   "cell_type": "code",
   "execution_count": null,
   "id": "1fa6a96b",
   "metadata": {},
   "outputs": [],
   "source": [
    "import random\n",
    "random_number=random.randint(1,10)\n",
    "user_number=eval(input(\"guess the number:\"))\n",
    "\n",
    "\n",
    "\n",
    " "
   ]
  },
  {
   "cell_type": "code",
   "execution_count": 9,
   "id": "693dea98",
   "metadata": {},
   "outputs": [
    {
     "name": "stdout",
     "output_type": "stream",
     "text": [
      "1 is the divisors for 50\n",
      "2 is the divisors for 50\n",
      "5 is the divisors for 50\n",
      "10 is the divisors for 50\n",
      "25 is the divisors for 50\n",
      "50 is the divisors for 50\n"
     ]
    },
    {
     "data": {
      "text/plain": [
       "('the number of divisors are:', 6)"
      ]
     },
     "execution_count": 9,
     "metadata": {},
     "output_type": "execute_result"
    }
   ],
   "source": [
    "def divisors(num):\n",
    "    start=1\n",
    "    stop=num+1\n",
    "    count=0\n",
    "    for i in range(start,stop):\n",
    "        if num%i==0:\n",
    "            print(f\"{i} is the divisors for {num}\")\n",
    "            count=count+1\n",
    "            \n",
    "    return(\"the number of divisors are:\",count)\n",
    "divisors(50)\n",
    "        \n",
    "    "
   ]
  },
  {
   "cell_type": "code",
   "execution_count": null,
   "id": "fb0cef44",
   "metadata": {},
   "outputs": [],
   "source": []
  },
  {
   "cell_type": "code",
   "execution_count": null,
   "id": "51d9ffed",
   "metadata": {},
   "outputs": [],
   "source": []
  }
 ],
 "metadata": {
  "kernelspec": {
   "display_name": "Python 3 (ipykernel)",
   "language": "python",
   "name": "python3"
  },
  "language_info": {
   "codemirror_mode": {
    "name": "ipython",
    "version": 3
   },
   "file_extension": ".py",
   "mimetype": "text/x-python",
   "name": "python",
   "nbconvert_exporter": "python",
   "pygments_lexer": "ipython3",
   "version": "3.11.5"
  }
 },
 "nbformat": 4,
 "nbformat_minor": 5
}
