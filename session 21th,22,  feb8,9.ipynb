{
 "cells": [
  {
   "cell_type": "code",
   "execution_count": 1,
   "id": "8ad3ca2c",
   "metadata": {},
   "outputs": [],
   "source": [
    "list1=[1,2,3,4]\n"
   ]
  },
  {
   "cell_type": "markdown",
   "id": "ec8c924a",
   "metadata": {},
   "source": [
    " $clear$"
   ]
  },
  {
   "cell_type": "code",
   "execution_count": 2,
   "id": "0c90dcc5",
   "metadata": {},
   "outputs": [
    {
     "data": {
      "text/plain": [
       "[]"
      ]
     },
     "execution_count": 2,
     "metadata": {},
     "output_type": "execute_result"
    }
   ],
   "source": [
    "list1.clear()\n",
    "list1"
   ]
  },
  {
   "cell_type": "markdown",
   "id": "5ae88a12",
   "metadata": {},
   "source": [
    "$copy$"
   ]
  },
  {
   "cell_type": "code",
   "execution_count": 9,
   "id": "69b699e0",
   "metadata": {},
   "outputs": [
    {
     "data": {
      "text/plain": [
       "([1, 2, 3, 4], [])"
      ]
     },
     "execution_count": 9,
     "metadata": {},
     "output_type": "execute_result"
    }
   ],
   "source": [
    "l1=[1,2,3,4]\n",
    "l2=l1.copy()\n",
    "l2.clear()\n",
    "l1,l2"
   ]
  },
  {
   "cell_type": "markdown",
   "id": "b2fb7b11",
   "metadata": {},
   "source": [
    " $pop - remove - del$"
   ]
  },
  {
   "cell_type": "code",
   "execution_count": 11,
   "id": "052d6ef9",
   "metadata": {},
   "outputs": [
    {
     "data": {
      "text/plain": [
       "4"
      ]
     },
     "execution_count": 11,
     "metadata": {},
     "output_type": "execute_result"
    }
   ],
   "source": [
    "l1=['A','B','C',1,2,3]\n",
    "l1.pop()\n"
   ]
  },
  {
   "cell_type": "code",
   "execution_count": 18,
   "id": "a7a7a623",
   "metadata": {},
   "outputs": [
    {
     "data": {
      "text/plain": [
       "['B', 'C', 1, 2, 3]"
      ]
     },
     "execution_count": 18,
     "metadata": {},
     "output_type": "execute_result"
    }
   ],
   "source": [
    "l1=['A','B','C',1,2,3]\n",
    "l1.pop(0)\n",
    "l1"
   ]
  },
  {
   "cell_type": "markdown",
   "id": "3c96d7fb",
   "metadata": {},
   "source": [
    "$remove$"
   ]
  },
  {
   "cell_type": "code",
   "execution_count": 17,
   "id": "ffc0e6aa",
   "metadata": {},
   "outputs": [
    {
     "data": {
      "text/plain": [
       "['B', 'C', 1, 2, 3]"
      ]
     },
     "execution_count": 17,
     "metadata": {},
     "output_type": "execute_result"
    }
   ],
   "source": [
    "l1=['A','B','C',1,2,3]\n",
    "l1.remove('A')\n",
    "l1"
   ]
  },
  {
   "cell_type": "code",
   "execution_count": 6,
   "id": "ed85d072",
   "metadata": {},
   "outputs": [
    {
     "data": {
      "text/plain": [
       "[1, 2, 3, 4]"
      ]
     },
     "execution_count": 6,
     "metadata": {},
     "output_type": "execute_result"
    }
   ],
   "source": [
    "l1=[1,2,3,4]\n",
    "l1.copy()"
   ]
  },
  {
   "cell_type": "code",
   "execution_count": 7,
   "id": "4f393fec",
   "metadata": {},
   "outputs": [
    {
     "ename": "TypeError",
     "evalue": "list.pop() takes no keyword arguments",
     "output_type": "error",
     "traceback": [
      "\u001b[1;31m---------------------------------------------------------------------------\u001b[0m",
      "\u001b[1;31mTypeError\u001b[0m                                 Traceback (most recent call last)",
      "Cell \u001b[1;32mIn[7], line 2\u001b[0m\n\u001b[0;32m      1\u001b[0m l1\u001b[38;5;241m=\u001b[39m[\u001b[38;5;124m'\u001b[39m\u001b[38;5;124mA\u001b[39m\u001b[38;5;124m'\u001b[39m,\u001b[38;5;124m'\u001b[39m\u001b[38;5;124mB\u001b[39m\u001b[38;5;124m'\u001b[39m,\u001b[38;5;124m'\u001b[39m\u001b[38;5;124mC\u001b[39m\u001b[38;5;124m'\u001b[39m,\u001b[38;5;241m1\u001b[39m,\u001b[38;5;241m2\u001b[39m,\u001b[38;5;241m3\u001b[39m,\u001b[38;5;241m100\u001b[39m]\n\u001b[1;32m----> 2\u001b[0m l1\u001b[38;5;241m.\u001b[39mpop(index\u001b[38;5;241m=\u001b[39m\u001b[38;5;241m0\u001b[39m)\n\u001b[0;32m      3\u001b[0m l1\n",
      "\u001b[1;31mTypeError\u001b[0m: list.pop() takes no keyword arguments"
     ]
    }
   ],
   "source": [
    "l1=['A','B','C',1,2,3,100]\n",
    "l1.pop(index=0)\n",
    "l1"
   ]
  },
  {
   "cell_type": "code",
   "execution_count": null,
   "id": "c94e19e9",
   "metadata": {},
   "outputs": [],
   "source": [
    "l1=['A','B','C',1,2,3,100]\n",
    "l1.remove(1)"
   ]
  },
  {
   "cell_type": "markdown",
   "id": "144ae7a1",
   "metadata": {},
   "source": [
    "# index"
   ]
  },
  {
   "cell_type": "code",
   "execution_count": null,
   "id": "540deec0",
   "metadata": {
    "scrolled": true
   },
   "outputs": [],
   "source": [
    "l1=['A','B','C',1,2,3,100]\n",
    "l1.index(1)"
   ]
  },
  {
   "cell_type": "code",
   "execution_count": null,
   "id": "32332669",
   "metadata": {},
   "outputs": [],
   "source": [
    "l2"
   ]
  },
  {
   "cell_type": "markdown",
   "id": "dffd682f",
   "metadata": {},
   "source": [
    "# del"
   ]
  },
  {
   "cell_type": "code",
   "execution_count": null,
   "id": "db5dd69d",
   "metadata": {},
   "outputs": [],
   "source": [
    "l1=['A','B','C',1,2,3,100]\n",
    "del(l1)"
   ]
  },
  {
   "cell_type": "markdown",
   "id": "30818c8a",
   "metadata": {},
   "source": [
    "# apped - extend - insert"
   ]
  },
  {
   "cell_type": "markdown",
   "id": "7c0b01ea",
   "metadata": {},
   "source": [
    "## l1=['Hyd','Mumbai','Chennai']\n",
    "\n",
    "l2=[]\n",
    "for i in l1:\n",
    "    if len(i)>3:\n",
    "        l2.append(i)\n",
    "l2        \n",
    "        \n"
   ]
  },
  {
   "cell_type": "code",
   "execution_count": null,
   "id": "ff661b13",
   "metadata": {},
   "outputs": [],
   "source": [
    "l1=['hyd','mumbai','chennai']\n",
    "l2=[]\n",
    "for i in l1:\n",
    "    l1.append()"
   ]
  },
  {
   "cell_type": "code",
   "execution_count": null,
   "id": "39b992f4",
   "metadata": {},
   "outputs": [],
   "source": [
    "s='hello hai how are you'\n",
    "l1=[]\n",
    "for i in range(len(s)):\n",
    "    if s[i]=='a':\n",
    "        l1.append(i)\n",
    "        \n",
    "sum(l1)"
   ]
  },
  {
   "cell_type": "code",
   "execution_count": null,
   "id": "c0090fb2",
   "metadata": {},
   "outputs": [],
   "source": [
    "#wap ask the user get 10 random nuymbers\n",
    "#even list   odd list\n",
    "#append even values in even list\n",
    "#odd values in odd list"
   ]
  },
  {
   "cell_type": "code",
   "execution_count": null,
   "id": "ba2800cc",
   "metadata": {},
   "outputs": [],
   "source": [
    "import.random\n",
    "num=random.randint(1,50)\n",
    "even()\n",
    "odd()\n"
   ]
  },
  {
   "cell_type": "markdown",
   "id": "750a2c2d",
   "metadata": {},
   "source": [
    "# extend"
   ]
  },
  {
   "cell_type": "code",
   "execution_count": null,
   "id": "7db5e10f",
   "metadata": {},
   "outputs": [],
   "source": [
    "l1=[1]\n",
    "l2=[2]\n",
    "l1.extend(l2)\n",
    "l1+l2"
   ]
  },
  {
   "cell_type": "code",
   "execution_count": null,
   "id": "fb1cbf4f",
   "metadata": {},
   "outputs": [],
   "source": [
    "l1=[1]\n",
    "l2=[2]\n",
    "l1.extend(l2)\n",
    "print(l1)\n",
    "print(l2)"
   ]
  },
  {
   "cell_type": "code",
   "execution_count": null,
   "id": "1cf00721",
   "metadata": {},
   "outputs": [],
   "source": [
    "l1=[1,2,3]\n",
    "l2=['A','B','C']\n",
    "l1.append(l2)\n",
    "l1"
   ]
  },
  {
   "cell_type": "markdown",
   "id": "5b170c08",
   "metadata": {},
   "source": [
    "# 22th sesion ,9th feb"
   ]
  },
  {
   "cell_type": "markdown",
   "id": "d666c545",
   "metadata": {},
   "source": [
    "# count"
   ]
  },
  {
   "cell_type": "markdown",
   "id": "e0ba55db",
   "metadata": {},
   "source": [
    "## "
   ]
  },
  {
   "cell_type": "code",
   "execution_count": null,
   "id": "7afa64be",
   "metadata": {},
   "outputs": [],
   "source": [
    "l1=('A','A','A')\n",
    "l1.count('A')"
   ]
  },
  {
   "cell_type": "code",
   "execution_count": 4,
   "id": "f8da2f8f",
   "metadata": {},
   "outputs": [
    {
     "data": {
      "text/plain": [
       "5"
      ]
     },
     "execution_count": 4,
     "metadata": {},
     "output_type": "execute_result"
    }
   ],
   "source": [
    "l2='can can you canner not can you buy can'\n",
    "l2.count('can')"
   ]
  },
  {
   "cell_type": "code",
   "execution_count": null,
   "id": "616cf30a",
   "metadata": {},
   "outputs": [],
   "source": []
  },
  {
   "cell_type": "markdown",
   "id": "ca78fd5e",
   "metadata": {},
   "source": [
    "# **word-frequency**"
   ]
  },
  {
   "cell_type": "code",
   "execution_count": null,
   "id": "3a7c67ac",
   "metadata": {},
   "outputs": [],
   "source": [
    "s1='can can you canner can not can you buy can'\n",
    "list_words=s1.split()\n",
    "l1=[]\n",
    "for word in list_words:\n",
    "    if word not in l1:\n",
    "        print(word,list_words.count(word))\n",
    "        l1.append(word)\n",
    "        \n",
    "        \n",
    "        "
   ]
  },
  {
   "cell_type": "markdown",
   "id": "098ebed2",
   "metadata": {},
   "source": [
    "$insert$"
   ]
  },
  {
   "cell_type": "code",
   "execution_count": null,
   "id": "f019ddaf",
   "metadata": {},
   "outputs": [],
   "source": [
    "l1=[1,2,3,4,100]\n",
    "l1.insert(3,'A')\n",
    "l1"
   ]
  },
  {
   "cell_type": "markdown",
   "id": "6840328c",
   "metadata": {},
   "source": [
    "$APPEND$"
   ]
  },
  {
   "cell_type": "code",
   "execution_count": null,
   "id": "a7cc0baa",
   "metadata": {},
   "outputs": [],
   "source": [
    "l1=['hyd','mumbai','channai','bengalure']\n",
    "l2=[]\n",
    "for i in l1:\n",
    "    if len(i)>5:\n",
    "        l2.append(i)\n",
    "l2        "
   ]
  },
  {
   "cell_type": "code",
   "execution_count": 9,
   "id": "816a5cd1",
   "metadata": {},
   "outputs": [
    {
     "data": {
      "text/plain": [
       "[1, 4, 9, 16, 25, 36, 49, 64, 81, 100]"
      ]
     },
     "execution_count": 9,
     "metadata": {},
     "output_type": "execute_result"
    }
   ],
   "source": [
    "num=[]\n",
    "for i in range  (1,11):\n",
    "    num.append(i*i)\n",
    "num    \n",
    "    "
   ]
  },
  {
   "cell_type": "markdown",
   "id": "1dec8f8b",
   "metadata": {},
   "source": [
    "$list-comprehension$"
   ]
  },
  {
   "cell_type": "code",
   "execution_count": null,
   "id": "74a03b09",
   "metadata": {},
   "outputs": [],
   "source": [
    "num=[<output> <forloop>]\n"
   ]
  },
  {
   "cell_type": "code",
   "execution_count": 11,
   "id": "9f8ef695",
   "metadata": {},
   "outputs": [
    {
     "data": {
      "text/plain": [
       "[1, 4, 9, 16, 25, 36, 49, 64, 81, 100]"
      ]
     },
     "execution_count": 11,
     "metadata": {},
     "output_type": "execute_result"
    }
   ],
   "source": [
    "num=[i*i for i in range(1,11)]\n",
    "num\n"
   ]
  },
  {
   "cell_type": "code",
   "execution_count": 13,
   "id": "354b9e7d",
   "metadata": {},
   "outputs": [
    {
     "data": {
      "text/plain": [
       "['Hyd', 'Mumbai']"
      ]
     },
     "execution_count": 13,
     "metadata": {},
     "output_type": "execute_result"
    }
   ],
   "source": [
    "l1=['hyd','mumbai']\n",
    "l2=[]\n",
    "for i in l1:\n",
    "    l2.append(i.capitalize())\n",
    "l2    "
   ]
  },
  {
   "cell_type": "code",
   "execution_count": 18,
   "id": "1661b42d",
   "metadata": {},
   "outputs": [
    {
     "data": {
      "text/plain": [
       "['Hyd', 'Mumbai']"
      ]
     },
     "execution_count": 18,
     "metadata": {},
     "output_type": "execute_result"
    }
   ],
   "source": [
    "l2=[i.capitalize() for i in l1]\n",
    "l2"
   ]
  },
  {
   "cell_type": "markdown",
   "id": "f2164a07",
   "metadata": {},
   "source": [
    "$pattern-2$"
   ]
  },
  {
   "cell_type": "markdown",
   "id": "af882b7a",
   "metadata": {},
   "source": [
    "$for and if condition$"
   ]
  },
  {
   "cell_type": "code",
   "execution_count": null,
   "id": "ec48eb4e",
   "metadata": {},
   "outputs": [],
   "source": [
    "l1=['hyd','mumbai','channai','bengalure']\n",
    "l2=[]\n",
    "for i in l1:\n",
    "    if len(i)>5:\n",
    "        l2.append(i)\n",
    "l2        "
   ]
  },
  {
   "cell_type": "code",
   "execution_count": null,
   "id": "0b9039de",
   "metadata": {},
   "outputs": [],
   "source": [
    "l2=[<output> <forloop> <if condition>]"
   ]
  },
  {
   "cell_type": "code",
   "execution_count": null,
   "id": "8e95d597",
   "metadata": {},
   "outputs": [],
   "source": []
  },
  {
   "cell_type": "markdown",
   "id": "c47d0f7c",
   "metadata": {},
   "source": [
    "$pattern-3$"
   ]
  },
  {
   "cell_type": "markdown",
   "id": "a4fa1a96",
   "metadata": {},
   "source": [
    "$for-if-else$"
   ]
  },
  {
   "cell_type": "code",
   "execution_count": 20,
   "id": "557c03be",
   "metadata": {},
   "outputs": [
    {
     "data": {
      "text/plain": [
       "['odd 1',\n",
       " 'even 2',\n",
       " 'odd 3',\n",
       " 'even 4',\n",
       " 'odd 5',\n",
       " 'even 6',\n",
       " 'odd 7',\n",
       " 'even 8',\n",
       " 'odd 9']"
      ]
     },
     "execution_count": 20,
     "metadata": {},
     "output_type": "execute_result"
    }
   ],
   "source": [
    "l=[]\n",
    "for i in range(1,10):\n",
    "    if i%2==0:\n",
    "        l.append(f'even {i}')\n",
    "    else:\n",
    "        l.append(f'odd {i}')\n",
    "l"
   ]
  },
  {
   "cell_type": "code",
   "execution_count": 23,
   "id": "a332a97c",
   "metadata": {},
   "outputs": [
    {
     "data": {
      "text/plain": [
       "['odd 1',\n",
       " 'even 2',\n",
       " 'odd 3',\n",
       " 'even 4',\n",
       " 'odd 5',\n",
       " 'even 6',\n",
       " 'odd 7',\n",
       " 'even 8',\n",
       " 'odd 9']"
      ]
     },
     "execution_count": 23,
     "metadata": {},
     "output_type": "execute_result"
    }
   ],
   "source": [
    "[f'even {i}' if i%2==0 else f'odd {i}' for i in range(1,10)]"
   ]
  },
  {
   "cell_type": "markdown",
   "id": "1fa22bf6",
   "metadata": {},
   "source": []
  },
  {
   "cell_type": "code",
   "execution_count": null,
   "id": "2a45e56c",
   "metadata": {},
   "outputs": [],
   "source": []
  },
  {
   "cell_type": "code",
   "execution_count": null,
   "id": "9389f663",
   "metadata": {},
   "outputs": [],
   "source": []
  },
  {
   "cell_type": "code",
   "execution_count": null,
   "id": "3535d88e",
   "metadata": {},
   "outputs": [],
   "source": []
  },
  {
   "cell_type": "code",
   "execution_count": null,
   "id": "57d996b7",
   "metadata": {},
   "outputs": [],
   "source": []
  }
 ],
 "metadata": {
  "kernelspec": {
   "display_name": "Python 3 (ipykernel)",
   "language": "python",
   "name": "python3"
  },
  "language_info": {
   "codemirror_mode": {
    "name": "ipython",
    "version": 3
   },
   "file_extension": ".py",
   "mimetype": "text/x-python",
   "name": "python",
   "nbconvert_exporter": "python",
   "pygments_lexer": "ipython3",
   "version": "3.11.5"
  }
 },
 "nbformat": 4,
 "nbformat_minor": 5
}
