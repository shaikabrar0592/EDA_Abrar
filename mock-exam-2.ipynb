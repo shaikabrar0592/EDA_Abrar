{
 "cells": [
  {
   "cell_type": "code",
   "execution_count": null,
   "id": "69632a1d",
   "metadata": {},
   "outputs": [],
   "source": [
    "1) Create a data frame with null values and fill the null values by python."
   ]
  },
  {
   "cell_type": "code",
   "execution_count": 4,
   "id": "54022ccb",
   "metadata": {},
   "outputs": [
    {
     "ename": "TypeError",
     "evalue": "'builtin_function_or_method' object is not subscriptable",
     "output_type": "error",
     "traceback": [
      "\u001b[1;31m---------------------------------------------------------------------------\u001b[0m",
      "\u001b[1;31mTypeError\u001b[0m                                 Traceback (most recent call last)",
      "Cell \u001b[1;32mIn[4], line 5\u001b[0m\n\u001b[0;32m      2\u001b[0m c2\u001b[38;5;241m=\u001b[39m\u001b[38;5;124m'\u001b[39m\u001b[38;5;124mdenied\u001b[39m\u001b[38;5;124m'\u001b[39m\n\u001b[0;32m      4\u001b[0m d\u001b[38;5;241m=\u001b[39m[]\n\u001b[1;32m----> 5\u001b[0m \u001b[38;5;28;01mfor\u001b[39;00m i \u001b[38;5;129;01min\u001b[39;00m \u001b[38;5;28mlen\u001b[39m[d]:\n\u001b[0;32m      6\u001b[0m     certifeid\u001b[38;5;241m.\u001b[39mappend[c1]\n\u001b[0;32m      7\u001b[0m     denied\u001b[38;5;241m.\u001b[39mappend[c2]\n",
      "\u001b[1;31mTypeError\u001b[0m: 'builtin_function_or_method' object is not subscriptable"
     ]
    }
   ],
   "source": [
    "c1='certifed'\n",
    "c2='denied'\n",
    "\n",
    "d=[]\n",
    "for i in len[d]:\n",
    "    certifeid.append[c1]\n",
    "    denied.append[c2]\n",
    "    columns=cols\n",
    "d    "
   ]
  },
  {
   "cell_type": "code",
   "execution_count": null,
   "id": "189ea170",
   "metadata": {},
   "outputs": [],
   "source": [
    "2) Explain the types of sampling in statistics-theory."
   ]
  },
  {
   "cell_type": "code",
   "execution_count": null,
   "id": "44620c4e",
   "metadata": {},
   "outputs": [],
   "source": [
    "creating pie charts\n",
    "graphs\n"
   ]
  },
  {
   "cell_type": "code",
   "execution_count": null,
   "id": "7da34bd8",
   "metadata": {},
   "outputs": [],
   "source": []
  },
  {
   "cell_type": "code",
   "execution_count": null,
   "id": "e52a98a3",
   "metadata": {},
   "outputs": [],
   "source": []
  }
 ],
 "metadata": {
  "kernelspec": {
   "display_name": "Python 3 (ipykernel)",
   "language": "python",
   "name": "python3"
  },
  "language_info": {
   "codemirror_mode": {
    "name": "ipython",
    "version": 3
   },
   "file_extension": ".py",
   "mimetype": "text/x-python",
   "name": "python",
   "nbconvert_exporter": "python",
   "pygments_lexer": "ipython3",
   "version": "3.11.5"
  }
 },
 "nbformat": 4,
 "nbformat_minor": 5
}
